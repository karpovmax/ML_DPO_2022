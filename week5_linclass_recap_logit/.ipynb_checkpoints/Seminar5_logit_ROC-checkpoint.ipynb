{
 "cells": [
  {
   "cell_type": "markdown",
   "id": "809a536a",
   "metadata": {},
   "source": [
    "## Python для анализа данных: cеминар 10\n",
    "\n",
    "## Логистическая регрессия\n",
    "\n",
    "#### План:\n",
    "1. Логистическая регрессия\n",
    "2. Ирисы Фишера. Свойства логистической регрессии\n",
    "3. Логистическая регрессия на менее приятных данных.\n",
    "4. ROC-кривая. \n",
    "---"
   ]
  },
  {
   "cell_type": "markdown",
   "id": "cd4cc692",
   "metadata": {},
   "source": [
    "### Логистическая регрессия"
   ]
  },
  {
   "cell_type": "markdown",
   "id": "e4463b47",
   "metadata": {},
   "source": [
    "Мы решаем задачу бинарной классификации, в которой целевая переменная $y$ принимает два значения: -1 и 1. Эту задачу можно решить при помощи линейного классификатора \n",
    "\n",
    "$$\n",
    "f(x_i, w) = \\mathrm{sign}\\left(\\langle x_i, w \\rangle\\right).\n",
    "$$\n",
    "\n",
    "Функция потерь для такой задачи – это сумма индикаторов того, что предсказание сделано неверно: \n",
    "\n",
    "$$Q(X, w) = \\frac{1}{\\ell}\\sum_{i = 1}^{\\ell}[y_i \\ne \\mathrm{sign}\\left(\\langle x_i, w \\rangle\\right)].$$\n",
    "\n",
    "\n",
    "Логистическая регрессия предлагает использовать логистическую функцию потерь:\n",
    "\n",
    "$$\n",
    "Q'(X, w) = \\frac{1}{\\ell}\\sum_{i = 1}^{\\ell}\\log(1 + e^{-y_i \\langle x_i, w \\rangle}) \\rightarrow \\min_w.\n",
    "$$"
   ]
  },
  {
   "cell_type": "code",
   "execution_count": 1,
   "id": "8e42e046",
   "metadata": {},
   "outputs": [],
   "source": [
    "import numpy as np\n",
    "import pandas as pd\n",
    "import matplotlib.pyplot as plt"
   ]
  },
  {
   "cell_type": "markdown",
   "id": "89326d67",
   "metadata": {},
   "source": [
    "### Ирисы Фишера. Свойства логистической регрессии"
   ]
  },
  {
   "cell_type": "markdown",
   "id": "280d7bc4",
   "metadata": {},
   "source": [
    "Рассмотрим свойства логистической регрессии и метода опорных векторов на примере классического набора данных [\"Ирисы Фишера\"](https://ru.wikipedia.org/wiki/Ирисы_Фишера). Этот набор состоит из 150 наблюдений, каждое из которых представляет собой четыре измерения: длина наружной доли околоцветника (`sepal length`), ширина наружной доли околоцветника (`sepal width`), длина внутренней доли околоцветника (`petal length`), ширина внутренней доли околоцветника (`petal width`). Каждое наблюдение относится к одному из трёх классов ириса: `setosa`, `versicolor` или `virginica`. Задача состоит в том, чтобы по измерениям предсказать класс цветка. \n",
    "\n",
    "[<img src=\"https://miro.medium.com/max/1000/1*Hh53mOF4Xy4eORjLilKOwA.png\" alt=\"drawing\" width=\"800\"/>](https://miro.medium.com/max/1000/1*Hh53mOF4Xy4eORjLilKOwA.png)"
   ]
  },
  {
   "cell_type": "code",
   "execution_count": 8,
   "id": "36a8ab5e",
   "metadata": {},
   "outputs": [
    {
     "name": "stdout",
     "output_type": "stream",
     "text": [
      ".. _iris_dataset:\n",
      "\n",
      "Iris plants dataset\n",
      "--------------------\n",
      "\n",
      "**Data Set Characteristics:**\n",
      "\n",
      "    :Number of Instances: 150 (50 in each of three classes)\n",
      "    :Number of Attributes: 4 numeric, predictive attributes and the class\n",
      "    :Attribute Information:\n",
      "        - sepal length in cm\n",
      "        - sepal width in cm\n",
      "        - petal length in cm\n",
      "        - petal width in cm\n",
      "        - class:\n",
      "                - Iris-Setosa\n",
      "                - Iris-Versicolour\n",
      "                - Iris-Virginica\n",
      "                \n",
      "    :Summary Statistics:\n",
      "\n",
      "    ============== ==== ==== ======= ===== ====================\n",
      "                    Min  Max   Mean    SD   Class Correlation\n",
      "    ============== ==== ==== ======= ===== ====================\n",
      "    sepal length:   4.3  7.9   5.84   0.83    0.7826\n",
      "    sepal width:    2.0  4.4   3.05   0.43   -0.4194\n",
      "    petal length:   1.0  6.9   3.76   1.76    0.9490  (high!)\n",
      "    petal width:    0.1  2.5   1.20   0.76    0.9565  (high!)\n",
      "    ============== ==== ==== ======= ===== ====================\n",
      "\n",
      "    :Missing Attribute Values: None\n",
      "    :Class Distribution: 33.3% for each of 3 classes.\n",
      "    :Creator: R.A. Fisher\n",
      "    :Donor: Michael Marshall (MARSHALL%PLU@io.arc.nasa.gov)\n",
      "    :Date: July, 1988\n",
      "\n",
      "The famous Iris database, first used by Sir R.A. Fisher. The dataset is taken\n",
      "from Fisher's paper. Note that it's the same as in R, but not as in the UCI\n",
      "Machine Learning Repository, which has two wrong data points.\n",
      "\n",
      "This is perhaps the best known database to be found in the\n",
      "pattern recognition literature.  Fisher's paper is a classic in the field and\n",
      "is referenced frequently to this day.  (See Duda & Hart, for example.)  The\n",
      "data set contains 3 classes of 50 instances each, where each class refers to a\n",
      "type of iris plant.  One class is linearly separable from the other 2; the\n",
      "latter are NOT linearly separable from each other.\n",
      "\n",
      ".. topic:: References\n",
      "\n",
      "   - Fisher, R.A. \"The use of multiple measurements in taxonomic problems\"\n",
      "     Annual Eugenics, 7, Part II, 179-188 (1936); also in \"Contributions to\n",
      "     Mathematical Statistics\" (John Wiley, NY, 1950).\n",
      "   - Duda, R.O., & Hart, P.E. (1973) Pattern Classification and Scene Analysis.\n",
      "     (Q327.D83) John Wiley & Sons.  ISBN 0-471-22361-1.  See page 218.\n",
      "   - Dasarathy, B.V. (1980) \"Nosing Around the Neighborhood: A New System\n",
      "     Structure and Classification Rule for Recognition in Partially Exposed\n",
      "     Environments\".  IEEE Transactions on Pattern Analysis and Machine\n",
      "     Intelligence, Vol. PAMI-2, No. 1, 67-71.\n",
      "   - Gates, G.W. (1972) \"The Reduced Nearest Neighbor Rule\".  IEEE Transactions\n",
      "     on Information Theory, May 1972, 431-433.\n",
      "   - See also: 1988 MLC Proceedings, 54-64.  Cheeseman et al\"s AUTOCLASS II\n",
      "     conceptual clustering system finds 3 classes in the data.\n",
      "   - Many, many more ...\n"
     ]
    }
   ],
   "source": [
    "print(load_iris().DESCR)"
   ]
  },
  {
   "cell_type": "code",
   "execution_count": 3,
   "id": "7ce84aa7",
   "metadata": {},
   "outputs": [
    {
     "data": {
      "text/html": [
       "<div>\n",
       "<style scoped>\n",
       "    .dataframe tbody tr th:only-of-type {\n",
       "        vertical-align: middle;\n",
       "    }\n",
       "\n",
       "    .dataframe tbody tr th {\n",
       "        vertical-align: top;\n",
       "    }\n",
       "\n",
       "    .dataframe thead th {\n",
       "        text-align: right;\n",
       "    }\n",
       "</style>\n",
       "<table border=\"1\" class=\"dataframe\">\n",
       "  <thead>\n",
       "    <tr style=\"text-align: right;\">\n",
       "      <th></th>\n",
       "      <th>sepal length (cm)</th>\n",
       "      <th>sepal width (cm)</th>\n",
       "      <th>petal length (cm)</th>\n",
       "      <th>petal width (cm)</th>\n",
       "    </tr>\n",
       "  </thead>\n",
       "  <tbody>\n",
       "    <tr>\n",
       "      <th>0</th>\n",
       "      <td>5.1</td>\n",
       "      <td>3.5</td>\n",
       "      <td>1.4</td>\n",
       "      <td>0.2</td>\n",
       "    </tr>\n",
       "    <tr>\n",
       "      <th>1</th>\n",
       "      <td>4.9</td>\n",
       "      <td>3.0</td>\n",
       "      <td>1.4</td>\n",
       "      <td>0.2</td>\n",
       "    </tr>\n",
       "    <tr>\n",
       "      <th>2</th>\n",
       "      <td>4.7</td>\n",
       "      <td>3.2</td>\n",
       "      <td>1.3</td>\n",
       "      <td>0.2</td>\n",
       "    </tr>\n",
       "    <tr>\n",
       "      <th>3</th>\n",
       "      <td>4.6</td>\n",
       "      <td>3.1</td>\n",
       "      <td>1.5</td>\n",
       "      <td>0.2</td>\n",
       "    </tr>\n",
       "    <tr>\n",
       "      <th>4</th>\n",
       "      <td>5.0</td>\n",
       "      <td>3.6</td>\n",
       "      <td>1.4</td>\n",
       "      <td>0.2</td>\n",
       "    </tr>\n",
       "  </tbody>\n",
       "</table>\n",
       "</div>"
      ],
      "text/plain": [
       "   sepal length (cm)  sepal width (cm)  petal length (cm)  petal width (cm)\n",
       "0                5.1               3.5                1.4               0.2\n",
       "1                4.9               3.0                1.4               0.2\n",
       "2                4.7               3.2                1.3               0.2\n",
       "3                4.6               3.1                1.5               0.2\n",
       "4                5.0               3.6                1.4               0.2"
      ]
     },
     "execution_count": 3,
     "metadata": {},
     "output_type": "execute_result"
    }
   ],
   "source": [
    "from sklearn.datasets import load_iris\n",
    "data = load_iris()\n",
    "X = pd.DataFrame(data['data'], columns = data['feature_names'])\n",
    "y = data['target']\n",
    "X.head()"
   ]
  },
  {
   "cell_type": "markdown",
   "id": "b14cf8fe",
   "metadata": {},
   "source": [
    "**Задание 1.** Перейдём к задаче бинарной классификации: будем предсказывать принадлежность цветка к виду `versicolor` против принадлежности ко всем прочим видам. Перекодируйте зависимую переменную так, чтобы цветки вида `versicolor` имели метку 1, а прочих видов – метку -1. "
   ]
  },
  {
   "cell_type": "code",
   "execution_count": 9,
   "id": "66865fc6",
   "metadata": {},
   "outputs": [
    {
     "data": {
      "text/plain": [
       "array([0, 0, 0, 0, 0, 0, 0, 0, 0, 0, 0, 0, 0, 0, 0, 0, 0, 0, 0, 0, 0, 0,\n",
       "       0, 0, 0, 0, 0, 0, 0, 0, 0, 0, 0, 0, 0, 0, 0, 0, 0, 0, 0, 0, 0, 0,\n",
       "       0, 0, 0, 0, 0, 0, 1, 1, 1, 1, 1, 1, 1, 1, 1, 1, 1, 1, 1, 1, 1, 1,\n",
       "       1, 1, 1, 1, 1, 1, 1, 1, 1, 1, 1, 1, 1, 1, 1, 1, 1, 1, 1, 1, 1, 1,\n",
       "       1, 1, 1, 1, 1, 1, 1, 1, 1, 1, 1, 1, 2, 2, 2, 2, 2, 2, 2, 2, 2, 2,\n",
       "       2, 2, 2, 2, 2, 2, 2, 2, 2, 2, 2, 2, 2, 2, 2, 2, 2, 2, 2, 2, 2, 2,\n",
       "       2, 2, 2, 2, 2, 2, 2, 2, 2, 2, 2, 2, 2, 2, 2, 2, 2, 2])"
      ]
     },
     "execution_count": 9,
     "metadata": {},
     "output_type": "execute_result"
    }
   ],
   "source": [
    "y"
   ]
  },
  {
   "cell_type": "code",
   "execution_count": 10,
   "id": "457691ac",
   "metadata": {},
   "outputs": [
    {
     "data": {
      "text/plain": [
       "array(['setosa', 'versicolor', 'virginica'], dtype='<U10')"
      ]
     },
     "execution_count": 10,
     "metadata": {},
     "output_type": "execute_result"
    }
   ],
   "source": [
    "data['target_names']"
   ]
  },
  {
   "cell_type": "code",
   "execution_count": 11,
   "id": "0b71d4be",
   "metadata": {},
   "outputs": [],
   "source": [
    "y[y != 1] = -1"
   ]
  },
  {
   "cell_type": "code",
   "execution_count": 12,
   "id": "21bcd059",
   "metadata": {},
   "outputs": [
    {
     "data": {
      "text/plain": [
       "array([-1, -1, -1, -1, -1, -1, -1, -1, -1, -1, -1, -1, -1, -1, -1, -1, -1,\n",
       "       -1, -1, -1, -1, -1, -1, -1, -1, -1, -1, -1, -1, -1, -1, -1, -1, -1,\n",
       "       -1, -1, -1, -1, -1, -1, -1, -1, -1, -1, -1, -1, -1, -1, -1, -1,  1,\n",
       "        1,  1,  1,  1,  1,  1,  1,  1,  1,  1,  1,  1,  1,  1,  1,  1,  1,\n",
       "        1,  1,  1,  1,  1,  1,  1,  1,  1,  1,  1,  1,  1,  1,  1,  1,  1,\n",
       "        1,  1,  1,  1,  1,  1,  1,  1,  1,  1,  1,  1,  1,  1,  1, -1, -1,\n",
       "       -1, -1, -1, -1, -1, -1, -1, -1, -1, -1, -1, -1, -1, -1, -1, -1, -1,\n",
       "       -1, -1, -1, -1, -1, -1, -1, -1, -1, -1, -1, -1, -1, -1, -1, -1, -1,\n",
       "       -1, -1, -1, -1, -1, -1, -1, -1, -1, -1, -1, -1, -1, -1])"
      ]
     },
     "execution_count": 12,
     "metadata": {},
     "output_type": "execute_result"
    }
   ],
   "source": [
    "y"
   ]
  },
  {
   "cell_type": "markdown",
   "id": "67571f33",
   "metadata": {},
   "source": [
    "**Задание 2**. Будем работать с двумя признаками: `sepal length (cm)` и `sepal width (cm)`. Отделите их в отдельную матрицу. Разделите выборку на обучающую и тестовую, долю тестовой выборки укажите равной 0.3. Отмасштабируйте выборки при помощи StandardScaler. Постройте диаграмму рассеяния по тренировочной выборке и убедитесь, что данные линейно не разделимы. "
   ]
  },
  {
   "cell_type": "code",
   "execution_count": 13,
   "id": "53c0a3d1",
   "metadata": {},
   "outputs": [],
   "source": [
    "from sklearn.model_selection import train_test_split\n",
    "from sklearn.preprocessing import StandardScaler\n",
    "np.random.seed(123)"
   ]
  },
  {
   "cell_type": "code",
   "execution_count": 14,
   "id": "d973bd91",
   "metadata": {},
   "outputs": [
    {
     "data": {
      "text/plain": [
       "<matplotlib.collections.PathCollection at 0x7fe221abc0d0>"
      ]
     },
     "execution_count": 14,
     "metadata": {},
     "output_type": "execute_result"
    },
    {
     "data": {
      "image/png": "[encoded data removed]",
      "text/plain": [
       "<Figure size 432x288 with 1 Axes>"
      ]
     },
     "metadata": {
      "needs_background": "light"
     },
     "output_type": "display_data"
    }
   ],
   "source": [
    "X = X[['sepal length (cm)', 'sepal width (cm)']]\n",
    "X_train, X_test, y_train, y_test = train_test_split(X, y, test_size = 0.3)\n",
    "\n",
    "ss = StandardScaler()\n",
    "X_train = ss.fit_transform(X_train)\n",
    "X_test = ss.transform(X_test)\n",
    "\n",
    "plt.scatter(X_train[:, 0], X_train[:, 1], c = y_train)"
   ]
  },
  {
   "cell_type": "markdown",
   "id": "7a321005",
   "metadata": {},
   "source": [
    "**Задание 3.** Начнём с простого. Обучите логистическую регрессию на тренировочной выборке. Убедитесь, что `accuracy`, возможно, не подходит в качестве метрики для данной задачи и рассчитайте `f1-меру` на тестовой выборке. "
   ]
  },
  {
   "cell_type": "code",
   "execution_count": 15,
   "id": "f054e2ba",
   "metadata": {},
   "outputs": [],
   "source": [
    "from sklearn.linear_model import LogisticRegression"
   ]
  },
  {
   "cell_type": "code",
   "execution_count": 16,
   "id": "7c16668b",
   "metadata": {},
   "outputs": [
    {
     "name": "stdout",
     "output_type": "stream",
     "text": [
      "[[ 0.18163349 -1.04216502]]\n"
     ]
    }
   ],
   "source": [
    "lr = LogisticRegression()\n",
    "\n",
    "lr.fit(X_train, y_train)\n",
    "\n",
    "print(lr.coef_)"
   ]
  },
  {
   "cell_type": "code",
   "execution_count": 17,
   "id": "a30c3457",
   "metadata": {},
   "outputs": [
    {
     "name": "stdout",
     "output_type": "stream",
     "text": [
      "-1    65\n",
      " 1    40\n",
      "dtype: int64\n",
      "-1    35\n",
      " 1    10\n",
      "dtype: int64\n"
     ]
    }
   ],
   "source": [
    "print(pd.Series(y_train).value_counts())\n",
    "print(pd.Series(y_test).value_counts())"
   ]
  },
  {
   "cell_type": "code",
   "execution_count": 20,
   "id": "b0171628",
   "metadata": {},
   "outputs": [
    {
     "name": "stdout",
     "output_type": "stream",
     "text": [
      "Logistic Regression:  0.6956521739130435\n"
     ]
    }
   ],
   "source": [
    "from sklearn.metrics import f1_score\n",
    "print('Logistic Regression: ', f1_score(y_test, lr.predict(X_test)))"
   ]
  },
  {
   "cell_type": "markdown",
   "id": "6640fc62",
   "metadata": {},
   "source": [
    "Код ниже построит решающие поверхности для классификаторов."
   ]
  },
  {
   "cell_type": "code",
   "execution_count": 12,
   "id": "e2769d66",
   "metadata": {
    "scrolled": true
   },
   "outputs": [],
   "source": [
    "#pip install mlxtend"
   ]
  },
  {
   "cell_type": "code",
   "execution_count": 21,
   "id": "8f275a2e",
   "metadata": {},
   "outputs": [
    {
     "data": {
      "image/png": "[encoded data removed]",
      "text/plain": [
       "<Figure size 720x576 with 1 Axes>"
      ]
     },
     "metadata": {
      "needs_background": "light"
     },
     "output_type": "display_data"
    }
   ],
   "source": [
    "import matplotlib.pyplot as plt\n",
    "from mlxtend.plotting import plot_decision_regions\n",
    "import matplotlib.gridspec as gridspec\n",
    "import itertools\n",
    "gs = gridspec.GridSpec(1, 2)\n",
    "\n",
    "fig = plt.figure(figsize=(10,8))\n",
    "\n",
    "labels = ['Logistic Regression']\n",
    "for clf, lab, grd in zip([lr],\n",
    "                         labels,\n",
    "                         itertools.product([0, 1], repeat=2)):\n",
    "\n",
    "    ax = plt.subplot(gs[grd[0], grd[1]])\n",
    "    fig = plot_decision_regions(X = X_train, y = np.array(y_train), clf=clf, legend=2)\n",
    "    plt.title(lab)\n",
    "\n",
    "plt.show()"
   ]
  },
  {
   "cell_type": "markdown",
   "id": "1bf6359d",
   "metadata": {},
   "source": [
    "Теперь изучим свойства логистической регрессии.\n",
    "\n",
    "**Задание 3.** Обучите три различные логистические регрессии с разным параметром регуляризации $\\alpha$ (обратите внимание, что в реализации `sklearn` $C = 1/\\alpha$). Как изменяется разделяющая поверхность в зависимости от $\\alpha$?"
   ]
  },
  {
   "cell_type": "code",
   "execution_count": 22,
   "id": "07bdcb0f",
   "metadata": {},
   "outputs": [],
   "source": [
    "C = [0.01, 0.05, 10]\n",
    "# ConvergenceWarning\n",
    "lr1 = LogisticRegression(C = C[0])\n",
    "lr2 = LogisticRegression(C = C[1])\n",
    "lr3 = LogisticRegression(C = C[2])"
   ]
  },
  {
   "cell_type": "code",
   "execution_count": 23,
   "id": "2e1c9254",
   "metadata": {},
   "outputs": [
    {
     "data": {
      "image/png": "[encoded data removed]",
      "text/plain": [
       "<Figure size 1080x576 with 3 Axes>"
      ]
     },
     "metadata": {
      "needs_background": "light"
     },
     "output_type": "display_data"
    }
   ],
   "source": [
    "import matplotlib.pyplot as plt\n",
    "from mlxtend.plotting import plot_decision_regions\n",
    "import matplotlib.gridspec as gridspec\n",
    "import itertools\n",
    "gs = gridspec.GridSpec(1, 3)\n",
    "\n",
    "fig = plt.figure(figsize=(15,8))\n",
    "\n",
    "labels = ['C = 0.01', 'C = 0.05', 'C = 10']\n",
    "for clf, lab, grd in zip([lr1, lr2, lr3],\n",
    "                         labels,\n",
    "                         itertools.product([0, 1, 2], repeat=2)):\n",
    "    clf.fit(X_train, y_train)\n",
    "    ax = plt.subplot(gs[grd[0], grd[1]])\n",
    "    fig = plot_decision_regions(X = X_train, y = np.array(y_train), clf=clf, legend=2)\n",
    "    plt.title(lab)\n",
    "\n",
    "plt.show()"
   ]
  },
  {
   "cell_type": "markdown",
   "id": "202e2010",
   "metadata": {},
   "source": [
    "**Задание 4.** Теперь попробуем понять, что происходит при решении задачи мягкой классификации. Выведите долю положительных наблюдений целевой переменной тренировочной выборки. Используя метод `predict_proba()`, сделайте предсказание по всей тренировочной выборке и найдите среднюю оценку вероятности принадлежности к положительному классу. Сравните полученную долю и среднюю предсказанную вероятность положительного класса. Как это можно объяснить? (подробный ответ в бонусной части в конце семинара). "
   ]
  },
  {
   "cell_type": "code",
   "execution_count": 24,
   "id": "0088f8fd",
   "metadata": {},
   "outputs": [
    {
     "data": {
      "text/plain": [
       "0.38095238095238093"
      ]
     },
     "execution_count": 24,
     "metadata": {},
     "output_type": "execute_result"
    }
   ],
   "source": [
    "(y_train == 1).sum() / len(y_train)"
   ]
  },
  {
   "cell_type": "code",
   "execution_count": 25,
   "id": "681220a1",
   "metadata": {},
   "outputs": [
    {
     "data": {
      "text/plain": [
       "0.3809522219023627"
      ]
     },
     "execution_count": 25,
     "metadata": {},
     "output_type": "execute_result"
    }
   ],
   "source": [
    "lr.predict_proba(X_train)[:, 1].mean()"
   ]
  },
  {
   "cell_type": "markdown",
   "id": "0cf7fc5f",
   "metadata": {},
   "source": [
    "### Логистическая регрессия на менее приятных данных"
   ]
  },
  {
   "cell_type": "markdown",
   "id": "06ae50e5",
   "metadata": {},
   "source": [
    "Мы будем работать с [набором данных](https://www.kaggle.com/piyushgoyal443/red-wine-dataset?select=wineQualityReds.csv), содержащим информацию о характеристиках вина. Каждое наблюдение принадлежит к одному из 10 категорий качества вина, и наша задача заключается в том, что предсказать эту категорию. "
   ]
  },
  {
   "cell_type": "code",
   "execution_count": 26,
   "id": "95357d6a",
   "metadata": {},
   "outputs": [
    {
     "data": {
      "text/html": [
       "<div>\n",
       "<style scoped>\n",
       "    .dataframe tbody tr th:only-of-type {\n",
       "        vertical-align: middle;\n",
       "    }\n",
       "\n",
       "    .dataframe tbody tr th {\n",
       "        vertical-align: top;\n",
       "    }\n",
       "\n",
       "    .dataframe thead th {\n",
       "        text-align: right;\n",
       "    }\n",
       "</style>\n",
       "<table border=\"1\" class=\"dataframe\">\n",
       "  <thead>\n",
       "    <tr style=\"text-align: right;\">\n",
       "      <th></th>\n",
       "      <th>fixed acidity</th>\n",
       "      <th>volatile acidity</th>\n",
       "      <th>citric acid</th>\n",
       "      <th>residual sugar</th>\n",
       "      <th>chlorides</th>\n",
       "      <th>free sulfur dioxide</th>\n",
       "      <th>total sulfur dioxide</th>\n",
       "      <th>density</th>\n",
       "      <th>pH</th>\n",
       "      <th>sulphates</th>\n",
       "      <th>alcohol</th>\n",
       "      <th>quality</th>\n",
       "    </tr>\n",
       "  </thead>\n",
       "  <tbody>\n",
       "    <tr>\n",
       "      <th>0</th>\n",
       "      <td>7.4</td>\n",
       "      <td>0.70</td>\n",
       "      <td>0.00</td>\n",
       "      <td>1.9</td>\n",
       "      <td>0.076</td>\n",
       "      <td>11.0</td>\n",
       "      <td>34.0</td>\n",
       "      <td>0.9978</td>\n",
       "      <td>3.51</td>\n",
       "      <td>0.56</td>\n",
       "      <td>9.4</td>\n",
       "      <td>5</td>\n",
       "    </tr>\n",
       "    <tr>\n",
       "      <th>1</th>\n",
       "      <td>7.8</td>\n",
       "      <td>0.88</td>\n",
       "      <td>0.00</td>\n",
       "      <td>2.6</td>\n",
       "      <td>0.098</td>\n",
       "      <td>25.0</td>\n",
       "      <td>67.0</td>\n",
       "      <td>0.9968</td>\n",
       "      <td>3.20</td>\n",
       "      <td>0.68</td>\n",
       "      <td>9.8</td>\n",
       "      <td>5</td>\n",
       "    </tr>\n",
       "    <tr>\n",
       "      <th>2</th>\n",
       "      <td>7.8</td>\n",
       "      <td>0.76</td>\n",
       "      <td>0.04</td>\n",
       "      <td>2.3</td>\n",
       "      <td>0.092</td>\n",
       "      <td>15.0</td>\n",
       "      <td>54.0</td>\n",
       "      <td>0.9970</td>\n",
       "      <td>3.26</td>\n",
       "      <td>0.65</td>\n",
       "      <td>9.8</td>\n",
       "      <td>5</td>\n",
       "    </tr>\n",
       "    <tr>\n",
       "      <th>3</th>\n",
       "      <td>11.2</td>\n",
       "      <td>0.28</td>\n",
       "      <td>0.56</td>\n",
       "      <td>1.9</td>\n",
       "      <td>0.075</td>\n",
       "      <td>17.0</td>\n",
       "      <td>60.0</td>\n",
       "      <td>0.9980</td>\n",
       "      <td>3.16</td>\n",
       "      <td>0.58</td>\n",
       "      <td>9.8</td>\n",
       "      <td>6</td>\n",
       "    </tr>\n",
       "    <tr>\n",
       "      <th>4</th>\n",
       "      <td>7.4</td>\n",
       "      <td>0.70</td>\n",
       "      <td>0.00</td>\n",
       "      <td>1.9</td>\n",
       "      <td>0.076</td>\n",
       "      <td>11.0</td>\n",
       "      <td>34.0</td>\n",
       "      <td>0.9978</td>\n",
       "      <td>3.51</td>\n",
       "      <td>0.56</td>\n",
       "      <td>9.4</td>\n",
       "      <td>5</td>\n",
       "    </tr>\n",
       "  </tbody>\n",
       "</table>\n",
       "</div>"
      ],
      "text/plain": [
       "   fixed acidity  volatile acidity  citric acid  residual sugar  chlorides  \\\n",
       "0            7.4              0.70         0.00             1.9      0.076   \n",
       "1            7.8              0.88         0.00             2.6      0.098   \n",
       "2            7.8              0.76         0.04             2.3      0.092   \n",
       "3           11.2              0.28         0.56             1.9      0.075   \n",
       "4            7.4              0.70         0.00             1.9      0.076   \n",
       "\n",
       "   free sulfur dioxide  total sulfur dioxide  density    pH  sulphates  \\\n",
       "0                 11.0                  34.0   0.9978  3.51       0.56   \n",
       "1                 25.0                  67.0   0.9968  3.20       0.68   \n",
       "2                 15.0                  54.0   0.9970  3.26       0.65   \n",
       "3                 17.0                  60.0   0.9980  3.16       0.58   \n",
       "4                 11.0                  34.0   0.9978  3.51       0.56   \n",
       "\n",
       "   alcohol  quality  \n",
       "0      9.4        5  \n",
       "1      9.8        5  \n",
       "2      9.8        5  \n",
       "3      9.8        6  \n",
       "4      9.4        5  "
      ]
     },
     "execution_count": 26,
     "metadata": {},
     "output_type": "execute_result"
    }
   ],
   "source": [
    "data = pd.read_csv('wineQualityReds.csv')\n",
    "data.head()"
   ]
  },
  {
   "cell_type": "markdown",
   "id": "02433b4b",
   "metadata": {},
   "source": [
    "Как указано в описании набора, в нём нет пропущенных значений, и все переменные являются непрерывными. Целевая переменная – `quality`. "
   ]
  },
  {
   "cell_type": "markdown",
   "id": "705f00ac",
   "metadata": {},
   "source": [
    "**Задание 1.** Перейдём к задаче бинарной классификации и будем предсказывать только наиболее популярную категорию качества. Закодируйте столбец `quality` так, чтобы наиболее частая категория (это категория 5) получила метку 1, а все прочие категории – метку -1."
   ]
  },
  {
   "cell_type": "code",
   "execution_count": 27,
   "id": "43b85932",
   "metadata": {},
   "outputs": [],
   "source": [
    "qual = data['quality'].copy()\n",
    "qual[qual != 5] = -1\n",
    "qual[qual == 5] = 1"
   ]
  },
  {
   "cell_type": "code",
   "execution_count": 29,
   "id": "0f256716",
   "metadata": {},
   "outputs": [
    {
     "data": {
      "text/plain": [
       "-1    918\n",
       " 1    681\n",
       "Name: quality, dtype: int64"
      ]
     },
     "execution_count": 29,
     "metadata": {},
     "output_type": "execute_result"
    }
   ],
   "source": [
    "qual.value_counts()"
   ]
  },
  {
   "cell_type": "code",
   "execution_count": 30,
   "id": "5bd03e1b",
   "metadata": {},
   "outputs": [
    {
     "data": {
      "text/plain": [
       "0.425891181988743"
      ]
     },
     "execution_count": 30,
     "metadata": {},
     "output_type": "execute_result"
    }
   ],
   "source": [
    "681/len(qual)"
   ]
  },
  {
   "cell_type": "markdown",
   "id": "268ba7b2",
   "metadata": {},
   "source": [
    "**Задание 2.** Разделите признаки и целевую переменную. Разделите выборку на тренировочную и тестовую, долю тестовой выборки укажите равной 0.3. При помощи `StandardScaler` отмасштабируйте тренировочную и тестовую выборки. "
   ]
  },
  {
   "cell_type": "code",
   "execution_count": 31,
   "id": "0f7a3437",
   "metadata": {},
   "outputs": [],
   "source": [
    "from sklearn.model_selection import train_test_split\n",
    "from sklearn.preprocessing import StandardScaler\n",
    "np.random.seed(123)\n",
    "\n",
    "X_train, X_test, y_train, y_test = train_test_split(data.drop('quality', axis = 1), qual, test_size = 0.3)\n",
    "\n",
    "ss = StandardScaler()\n",
    "X_train = ss.fit_transform(X_train)\n",
    "X_test = ss.transform(X_test)"
   ]
  },
  {
   "cell_type": "markdown",
   "id": "26ccbed3",
   "metadata": {},
   "source": [
    "**Задание 3.** При помощи кросс-валидации (параметры выберите сами) подберите оптимальные значения коэффициентов регуляризации для логистической регрессии. Обучите модель с этими параметрами. Убедитесь, что доля правильных ответов – не лучший вариант для нашей задачи и рассчитайте F-меру на тестовой выборке."
   ]
  },
  {
   "cell_type": "code",
   "execution_count": 32,
   "id": "baa51c21",
   "metadata": {},
   "outputs": [],
   "source": [
    "from sklearn.model_selection import cross_validate\n",
    "\n",
    "scores_lr = []\n",
    "\n",
    "for c in np.arange(0.1, 10, 1):\n",
    "    lr = LogisticRegression(C = c)\n",
    "    \n",
    "    cv_lr = cross_validate(lr, X_train, y_train, cv = 5, scoring = 'f1')['test_score']\n",
    "    \n",
    "    scores_lr.append(cv_lr.mean())"
   ]
  },
  {
   "cell_type": "code",
   "execution_count": 37,
   "id": "977f860c",
   "metadata": {},
   "outputs": [
    {
     "data": {
      "text/plain": [
       "[0.6813792197271316,\n",
       " 0.6755367116051385,\n",
       " 0.6755367116051385,\n",
       " 0.6755367116051385,\n",
       " 0.6755367116051385,\n",
       " 0.6740678772570122,\n",
       " 0.6740678772570122,\n",
       " 0.6740678772570122,\n",
       " 0.6740678772570122,\n",
       " 0.6740678772570122]"
      ]
     },
     "execution_count": 37,
     "metadata": {},
     "output_type": "execute_result"
    }
   ],
   "source": [
    "scores_lr"
   ]
  },
  {
   "cell_type": "code",
   "execution_count": 36,
   "id": "9a2c3bfb",
   "metadata": {},
   "outputs": [
    {
     "data": {
      "text/plain": [
       "0.6813792197271316"
      ]
     },
     "execution_count": 36,
     "metadata": {},
     "output_type": "execute_result"
    }
   ],
   "source": [
    "max(scores_lr)"
   ]
  },
  {
   "cell_type": "code",
   "execution_count": 34,
   "id": "b97e1659",
   "metadata": {},
   "outputs": [
    {
     "data": {
      "text/plain": [
       "0"
      ]
     },
     "execution_count": 34,
     "metadata": {},
     "output_type": "execute_result"
    }
   ],
   "source": [
    "np.argmax(scores_lr) #argmin"
   ]
  },
  {
   "cell_type": "code",
   "execution_count": 33,
   "id": "cd41336f",
   "metadata": {},
   "outputs": [
    {
     "data": {
      "text/plain": [
       "0.1"
      ]
     },
     "execution_count": 33,
     "metadata": {},
     "output_type": "execute_result"
    }
   ],
   "source": [
    "np.arange(0.1, 10, 1)[np.argmax(scores_lr)]"
   ]
  },
  {
   "cell_type": "code",
   "execution_count": 38,
   "id": "7282934b",
   "metadata": {},
   "outputs": [
    {
     "name": "stdout",
     "output_type": "stream",
     "text": [
      "0.6497461928934011\n"
     ]
    }
   ],
   "source": [
    "lr = LogisticRegression(C = 0.1)\n",
    "\n",
    "lr.fit(X_train, y_train)\n",
    "\n",
    "print(f1_score(y_test, lr.predict(X_test)))"
   ]
  },
  {
   "cell_type": "markdown",
   "id": "7b7b523b",
   "metadata": {},
   "source": [
    "### ROC-кривая"
   ]
  },
  {
   "cell_type": "markdown",
   "id": "69843900",
   "metadata": {},
   "source": [
    "Ранее мы узнали, что помимо accuracy в задачах классификации так же используются precision, recall и f-мера. Теперь пришло время познакомиться с ещё одной метрикой – ROC AUC.\n",
    "\n",
    "Для начала вспомним, что мы работаем с матрицей ошибок:\n",
    "\n",
    "|       | alg = 1          | alg = -1    |\n",
    "|-------| -----------------|-------------|\n",
    "|y = 1  |TP                |FN           |\n",
    "|y = -1 |FP                | TN          |\n",
    "\n",
    "Определим следующие величины:\n",
    "\n",
    "$$\n",
    "TPR \\text{ (true positive rate, recall, sensitivity)} = \\dfrac{TP}{TP + FN} –\n",
    "$$\n",
    "доля правильно предсказанных объектов положительного класса.\n",
    "\n",
    "$$\n",
    "FPR \\text{ (false positive rate, 1 - specificity)} = \\dfrac{FP}{FP + TN} –\n",
    "$$\n",
    "доля неправильно предсказанных объектов отрицательного класса.\n",
    "\n",
    "Рассмотрим задачу мягкой классификации: мы предказываем вероятности принадлежности наблюдения к положительному и отрицательному классам. Тогда TPR и FPR будут зависеть от порога для вероятности, выше которого наблюдение будет отнесено к положительному классу. ROC-кривая строится в координатах $(FPR, TPR)$ и показывает комбинации TPR и FPR при всевозможных значениях порога. \n",
    "\n",
    "Для хорошего классификатора эта кривая является вогнутой, а для идеального классификатора она будет проходить через точку $(0, 1)$ (почему?).\n",
    "\n",
    "[<img src=\"https://upload.wikimedia.org/wikipedia/commons/6/6b/Roccurves.png\" alt=\"drawing\" width=\"350\"/>](https://ru.wikipedia.org/wiki/ROC-кривая)\n",
    "\n",
    "\n",
    "\n",
    "**Задание 1.** Постройте ROC-кривую для следующей выборки."
   ]
  },
  {
   "cell_type": "code",
   "execution_count": 39,
   "id": "33a82dbc",
   "metadata": {},
   "outputs": [],
   "source": [
    "# True labels\n",
    "y = [-1, 1, 1, -1, 1, 1]\n",
    "# Predicted labels\n",
    "p = [0.5, 0.1, 0.2, 0.9, 0.7, 0.1]"
   ]
  },
  {
   "cell_type": "markdown",
   "id": "94b78415",
   "metadata": {},
   "source": [
    "**Решение:**\n",
    "1. Упорядочим наблюдения по убыванию ответов алгоритма."
   ]
  },
  {
   "cell_type": "code",
   "execution_count": 40,
   "id": "51dc99de",
   "metadata": {},
   "outputs": [],
   "source": [
    "y = [-1, 1, -1, 1, 1, 1]\n",
    "p = [0.9, 0.7, 0.5, 0.2, 0.1, 0.1]"
   ]
  },
  {
   "cell_type": "markdown",
   "id": "cb041e4e",
   "metadata": {},
   "source": [
    "2. Разобьём единичный квадрат на $(m, n)$ частей, где $m$ – число 1 в $y$, $n$ – число нулей. Стартуем из точки $(0, 0)$. Если значение $y$ равно 1, делаем шаг вверх, а если -1 – вправо. Понятно, что конечная точка нашего маршрута – точка $(1, 1)$.\n",
    "\n",
    "**(Попросите семинариста нарисовать это)**. \n",
    "\n",
    "**Важный момент:** если у нескольких объектов значения предсказаний равны, а $y$ – различны, то мы должны сделать ход \"по диагонали\". \n",
    "\n",
    "**(Попросите семинариста нарисовать это)**. "
   ]
  },
  {
   "cell_type": "markdown",
   "id": "dc919354",
   "metadata": {},
   "source": [
    "3. Полученная кривая и является ROC-кривой. \n",
    "\n",
    "**(Почему этот алгоритм имеет смысл?)**"
   ]
  },
  {
   "cell_type": "code",
   "execution_count": 42,
   "id": "13c739c6",
   "metadata": {},
   "outputs": [],
   "source": [
    "from sklearn.metrics import roc_curve\n",
    "fpr, tpr, _ = roc_curve(y, p)"
   ]
  },
  {
   "cell_type": "code",
   "execution_count": 44,
   "id": "57d6ce2a",
   "metadata": {},
   "outputs": [
    {
     "data": {
      "text/plain": [
       "array([0. , 0.5, 0.5, 1. , 1. , 1. ])"
      ]
     },
     "execution_count": 44,
     "metadata": {},
     "output_type": "execute_result"
    }
   ],
   "source": [
    "fpr"
   ]
  },
  {
   "cell_type": "code",
   "execution_count": 45,
   "id": "94ecb2b6",
   "metadata": {},
   "outputs": [
    {
     "data": {
      "text/plain": [
       "array([0.  , 0.  , 0.25, 0.25, 0.5 , 1.  ])"
      ]
     },
     "execution_count": 45,
     "metadata": {},
     "output_type": "execute_result"
    }
   ],
   "source": [
    "tpr"
   ]
  },
  {
   "cell_type": "code",
   "execution_count": 43,
   "id": "0d6fefc1",
   "metadata": {},
   "outputs": [
    {
     "data": {
      "text/plain": [
       "<matplotlib.legend.Legend at 0x7fe221cbf8b0>"
      ]
     },
     "execution_count": 43,
     "metadata": {},
     "output_type": "execute_result"
    },
    {
     "data": {
      "image/png": "[encoded data removed]",
      "text/plain": [
       "<Figure size 576x576 with 1 Axes>"
      ]
     },
     "metadata": {
      "needs_background": "light"
     },
     "output_type": "display_data"
    }
   ],
   "source": [
    "plt.figure(figsize = (8, 8))\n",
    "plt.plot(fpr, tpr, label = 'ROC')\n",
    "plt.axvline(0.5, linestyle = 'dotted', c = 'red')\n",
    "plt.axhline(0.25, linestyle = 'dotted', c = 'red')\n",
    "plt.axhline(0.5, linestyle = 'dotted', c = 'red')\n",
    "plt.axhline(0.75, linestyle = 'dotted', c = 'red')\n",
    "plt.axhline(1.0, linestyle = 'dotted', c = 'red')\n",
    "plt.title('Красные линии показывают разбиение единичного квадрата на m и n частей')\n",
    "plt.legend()"
   ]
  },
  {
   "cell_type": "markdown",
   "id": "773da3a5",
   "metadata": {},
   "source": [
    "**Пример 2. [(Источник мудрости)](https://dyakonov.org/2017/07/28/auc-roc-площадь-под-кривой-ошибок/)**"
   ]
  },
  {
   "cell_type": "code",
   "execution_count": 46,
   "id": "1972d410",
   "metadata": {},
   "outputs": [],
   "source": [
    "p = [0.5, 0.1, 0.2, 0.6, 0.2, 0.3, 0.0]\n",
    "y = [-1,  -1,   -1, 1,    1,   1,   -1]"
   ]
  },
  {
   "cell_type": "code",
   "execution_count": 48,
   "id": "80129ef1",
   "metadata": {},
   "outputs": [],
   "source": [
    "fpr, tpr, _ = roc_curve(y, p)"
   ]
  },
  {
   "cell_type": "code",
   "execution_count": 49,
   "id": "caf2f70a",
   "metadata": {},
   "outputs": [
    {
     "data": {
      "text/plain": [
       "<matplotlib.legend.Legend at 0x7fe204111820>"
      ]
     },
     "execution_count": 49,
     "metadata": {},
     "output_type": "execute_result"
    },
    {
     "data": {
      "image/png": "[encoded data removed]",
      "text/plain": [
       "<Figure size 576x576 with 1 Axes>"
      ]
     },
     "metadata": {
      "needs_background": "light"
     },
     "output_type": "display_data"
    }
   ],
   "source": [
    "plt.figure(figsize = (8, 8))\n",
    "plt.plot(fpr, tpr, label = 'ROC')\n",
    "plt.axvline(0.25, linestyle = 'dotted', c = 'red')\n",
    "plt.axvline(0.5, linestyle = 'dotted', c = 'red')\n",
    "plt.axvline(0.75, linestyle = 'dotted', c = 'red')\n",
    "plt.axvline(1.0, linestyle = 'dotted', c = 'red')\n",
    "plt.axhline(0.33, linestyle = 'dotted', c = 'red')\n",
    "plt.axhline(0.66, linestyle = 'dotted', c = 'red')\n",
    "plt.axhline(1.0, linestyle = 'dotted', c = 'red')\n",
    "plt.title('Красные линии показывают разбиение единичного квадрата на m и n частей')\n",
    "plt.legend()"
   ]
  },
  {
   "cell_type": "code",
   "execution_count": 47,
   "id": "ab5dfd85",
   "metadata": {},
   "outputs": [],
   "source": [
    "# Упорядоченные:\n",
    "p = [0.6, 0.5, 0.3, 0.2, 0.2, 0.1, 0.0]\n",
    "y = [1, -1, 1, -1, 1, -1, -1]"
   ]
  },
  {
   "cell_type": "markdown",
   "id": "1db3c8a0",
   "metadata": {},
   "source": [
    "**Задание 2.** ROC AUC – площадь под ROC-кривой – равна доле пар наблюдений $(y = 1, y = -1)$, которые алгоритм верно упорядочил. Таким образом, чем больше ROC AUC, тем качественнее отработал классификатор. Вычислите ROC AUC для построенной ROC-кривой. "
   ]
  },
  {
   "cell_type": "markdown",
   "id": "0145416c",
   "metadata": {},
   "source": [
    "Для примера 1: $0.25 \\times 0.5$.\n",
    "\n",
    "Для примера 2: вычислите площадь фигуры. "
   ]
  },
  {
   "cell_type": "markdown",
   "id": "ba5d3d5d",
   "metadata": {},
   "source": [
    "**Задание 3.** Как выглядит ROC-кривая для случайного классификатора? \n",
    "\n",
    "Диагональ квадрата. \n",
    "\n",
    "**Задание 4.** Как по ROC-кривой выбрать порог для бинаризации?\n",
    "\n",
    "Выберите точку, которая соответствует вашим предпочтениям о соотношении TPR и FPR."
   ]
  },
  {
   "cell_type": "markdown",
   "id": "0fb85185",
   "metadata": {},
   "source": [
    "В `sklearn` реализовано вычисление значений ROC-кривой и площади под ней. "
   ]
  },
  {
   "cell_type": "code",
   "execution_count": 50,
   "id": "390e0258",
   "metadata": {},
   "outputs": [],
   "source": [
    "from sklearn.metrics import roc_curve, auc"
   ]
  },
  {
   "cell_type": "markdown",
   "id": "26a78f80",
   "metadata": {},
   "source": [
    "**Задание 5.** Постройте ROC-кривую и рассчитайте площадь под ней для логистической регрессии. О чём говорит такая форма кривой? Чтобы показать это, постройте pairplot данных."
   ]
  },
  {
   "cell_type": "code",
   "execution_count": 51,
   "id": "ca793038",
   "metadata": {},
   "outputs": [
    {
     "data": {
      "text/html": [
       "<style>#sk-container-id-1 {color: black;background-color: white;}#sk-container-id-1 pre{padding: 0;}#sk-container-id-1 div.sk-toggleable {background-color: white;}#sk-container-id-1 label.sk-toggleable__label {cursor: pointer;display: block;width: 100%;margin-bottom: 0;padding: 0.3em;box-sizing: border-box;text-align: center;}#sk-container-id-1 label.sk-toggleable__label-arrow:before {content: \"▸\";float: left;margin-right: 0.25em;color: #696969;}#sk-container-id-1 label.sk-toggleable__label-arrow:hover:before {color: black;}#sk-container-id-1 div.sk-estimator:hover label.sk-toggleable__label-arrow:before {color: black;}#sk-container-id-1 div.sk-toggleable__content {max-height: 0;max-width: 0;overflow: hidden;text-align: left;background-color: #f0f8ff;}#sk-container-id-1 div.sk-toggleable__content pre {margin: 0.2em;color: black;border-radius: 0.25em;background-color: #f0f8ff;}#sk-container-id-1 input.sk-toggleable__control:checked~div.sk-toggleable__content {max-height: 200px;max-width: 100%;overflow: auto;}#sk-container-id-1 input.sk-toggleable__control:checked~label.sk-toggleable__label-arrow:before {content: \"▾\";}#sk-container-id-1 div.sk-estimator input.sk-toggleable__control:checked~label.sk-toggleable__label {background-color: #d4ebff;}#sk-container-id-1 div.sk-label input.sk-toggleable__control:checked~label.sk-toggleable__label {background-color: #d4ebff;}#sk-container-id-1 input.sk-hidden--visually {border: 0;clip: rect(1px 1px 1px 1px);clip: rect(1px, 1px, 1px, 1px);height: 1px;margin: -1px;overflow: hidden;padding: 0;position: absolute;width: 1px;}#sk-container-id-1 div.sk-estimator {font-family: monospace;background-color: #f0f8ff;border: 1px dotted black;border-radius: 0.25em;box-sizing: border-box;margin-bottom: 0.5em;}#sk-container-id-1 div.sk-estimator:hover {background-color: #d4ebff;}#sk-container-id-1 div.sk-parallel-item::after {content: \"\";width: 100%;border-bottom: 1px solid gray;flex-grow: 1;}#sk-container-id-1 div.sk-label:hover label.sk-toggleable__label {background-color: #d4ebff;}#sk-container-id-1 div.sk-serial::before {content: \"\";position: absolute;border-left: 1px solid gray;box-sizing: border-box;top: 0;bottom: 0;left: 50%;z-index: 0;}#sk-container-id-1 div.sk-serial {display: flex;flex-direction: column;align-items: center;background-color: white;padding-right: 0.2em;padding-left: 0.2em;position: relative;}#sk-container-id-1 div.sk-item {position: relative;z-index: 1;}#sk-container-id-1 div.sk-parallel {display: flex;align-items: stretch;justify-content: center;background-color: white;position: relative;}#sk-container-id-1 div.sk-item::before, #sk-container-id-1 div.sk-parallel-item::before {content: \"\";position: absolute;border-left: 1px solid gray;box-sizing: border-box;top: 0;bottom: 0;left: 50%;z-index: -1;}#sk-container-id-1 div.sk-parallel-item {display: flex;flex-direction: column;z-index: 1;position: relative;background-color: white;}#sk-container-id-1 div.sk-parallel-item:first-child::after {align-self: flex-end;width: 50%;}#sk-container-id-1 div.sk-parallel-item:last-child::after {align-self: flex-start;width: 50%;}#sk-container-id-1 div.sk-parallel-item:only-child::after {width: 0;}#sk-container-id-1 div.sk-dashed-wrapped {border: 1px dashed gray;margin: 0 0.4em 0.5em 0.4em;box-sizing: border-box;padding-bottom: 0.4em;background-color: white;}#sk-container-id-1 div.sk-label label {font-family: monospace;font-weight: bold;display: inline-block;line-height: 1.2em;}#sk-container-id-1 div.sk-label-container {text-align: center;}#sk-container-id-1 div.sk-container {/* jupyter's `normalize.less` sets `[hidden] { display: none; }` but bootstrap.min.css set `[hidden] { display: none !important; }` so we also need the `!important` here to be able to override the default hidden behavior on the sphinx rendered scikit-learn.org. See: https://github.com/scikit-learn/scikit-learn/issues/21755 */display: inline-block !important;position: relative;}#sk-container-id-1 div.sk-text-repr-fallback {display: none;}</style><div id=\"sk-container-id-1\" class=\"sk-top-container\"><div class=\"sk-text-repr-fallback\"><pre>LogisticRegression()</pre><b>In a Jupyter environment, please rerun this cell to show the HTML representation or trust the notebook. <br />On GitHub, the HTML representation is unable to render, please try loading this page with nbviewer.org.</b></div><div class=\"sk-container\" hidden><div class=\"sk-item\"><div class=\"sk-estimator sk-toggleable\"><input class=\"sk-toggleable__control sk-hidden--visually\" id=\"sk-estimator-id-1\" type=\"checkbox\" checked><label for=\"sk-estimator-id-1\" class=\"sk-toggleable__label sk-toggleable__label-arrow\">LogisticRegression</label><div class=\"sk-toggleable__content\"><pre>LogisticRegression()</pre></div></div></div></div></div>"
      ],
      "text/plain": [
       "LogisticRegression()"
      ]
     },
     "execution_count": 51,
     "metadata": {},
     "output_type": "execute_result"
    }
   ],
   "source": [
    "lr = LogisticRegression()\n",
    "lr.fit(X_train, y_train)"
   ]
  },
  {
   "cell_type": "code",
   "execution_count": 52,
   "id": "5febbfdb",
   "metadata": {},
   "outputs": [],
   "source": [
    "fpr, tpr, _ = roc_curve(y_test, lr.predict_proba(X_test)[:, 1])"
   ]
  },
  {
   "cell_type": "code",
   "execution_count": 54,
   "id": "8eccd843",
   "metadata": {},
   "outputs": [
    {
     "data": {
      "image/png": "[encoded data removed]",
      "text/plain": [
       "<Figure size 432x288 with 1 Axes>"
      ]
     },
     "metadata": {
      "needs_background": "light"
     },
     "output_type": "display_data"
    }
   ],
   "source": [
    "plt.plot(fpr, tpr)\n",
    "plt.plot(fpr, fpr);"
   ]
  },
  {
   "cell_type": "code",
   "execution_count": 55,
   "id": "c9c883c5",
   "metadata": {},
   "outputs": [
    {
     "data": {
      "text/plain": [
       "0.7892101749701356"
      ]
     },
     "execution_count": 55,
     "metadata": {},
     "output_type": "execute_result"
    }
   ],
   "source": [
    "auc(fpr, tpr)"
   ]
  },
  {
   "cell_type": "code",
   "execution_count": null,
   "id": "f497dc4c",
   "metadata": {},
   "outputs": [],
   "source": []
  }
 ],
 "metadata": {
  "kernelspec": {
   "display_name": "Python 3",
   "language": "python",
   "name": "python3"
  },
  "language_info": {
   "codemirror_mode": {
    "name": "ipython",
    "version": 3
   },
   "file_extension": ".py",
   "mimetype": "text/x-python",
   "name": "python",
   "nbconvert_exporter": "python",
   "pygments_lexer": "ipython3",
   "version": "3.8.5"
  }
 },
 "nbformat": 4,
 "nbformat_minor": 5
}
