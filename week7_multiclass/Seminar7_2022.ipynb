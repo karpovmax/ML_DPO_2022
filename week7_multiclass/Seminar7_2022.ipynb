{
 "cells": [
  {
   "cell_type": "markdown",
   "id": "d869ea7e",
   "metadata": {},
   "source": [
    "# Темы семинара: отбор признаков и приложения\n",
    "\n",
    "- Фильтрационные методы\n",
    "- Оберточные методы\n",
    "- Встроенные методы\n",
    "- Нелинейные классификаторы\n",
    "- Сохранение модели"
   ]
  },
  {
   "cell_type": "code",
   "execution_count": 1,
   "id": "452fad90",
   "metadata": {},
   "outputs": [],
   "source": [
    "import numpy as np"
   ]
  },
  {
   "cell_type": "code",
   "execution_count": 1,
   "id": "21e9f282",
   "metadata": {
    "ExecuteTime": {
     "end_time": "2021-10-24T20:18:13.375480Z",
     "start_time": "2021-10-24T20:18:12.954646Z"
    }
   },
   "outputs": [],
   "source": [
    "import pandas as pd"
   ]
  },
  {
   "cell_type": "code",
   "execution_count": 2,
   "id": "2c50ca07",
   "metadata": {
    "ExecuteTime": {
     "end_time": "2021-10-24T20:18:13.744445Z",
     "start_time": "2021-10-24T20:18:13.737712Z"
    }
   },
   "outputs": [],
   "source": [
    "data = pd.read_csv('Pokemon.csv')"
   ]
  },
  {
   "cell_type": "code",
   "execution_count": 3,
   "id": "d9fb96b0",
   "metadata": {
    "ExecuteTime": {
     "end_time": "2021-10-24T20:18:14.174945Z",
     "start_time": "2021-10-24T20:18:14.154295Z"
    }
   },
   "outputs": [
    {
     "data": {
      "text/html": [
       "<div>\n",
       "<style scoped>\n",
       "    .dataframe tbody tr th:only-of-type {\n",
       "        vertical-align: middle;\n",
       "    }\n",
       "\n",
       "    .dataframe tbody tr th {\n",
       "        vertical-align: top;\n",
       "    }\n",
       "\n",
       "    .dataframe thead th {\n",
       "        text-align: right;\n",
       "    }\n",
       "</style>\n",
       "<table border=\"1\" class=\"dataframe\">\n",
       "  <thead>\n",
       "    <tr style=\"text-align: right;\">\n",
       "      <th></th>\n",
       "      <th>#</th>\n",
       "      <th>Name</th>\n",
       "      <th>Type 1</th>\n",
       "      <th>Type 2</th>\n",
       "      <th>Total</th>\n",
       "      <th>HP</th>\n",
       "      <th>Attack</th>\n",
       "      <th>Defense</th>\n",
       "      <th>Sp. Atk</th>\n",
       "      <th>Sp. Def</th>\n",
       "      <th>Speed</th>\n",
       "      <th>Generation</th>\n",
       "      <th>Legendary</th>\n",
       "    </tr>\n",
       "  </thead>\n",
       "  <tbody>\n",
       "    <tr>\n",
       "      <th>0</th>\n",
       "      <td>1</td>\n",
       "      <td>Bulbasaur</td>\n",
       "      <td>Grass</td>\n",
       "      <td>Poison</td>\n",
       "      <td>318</td>\n",
       "      <td>45</td>\n",
       "      <td>49</td>\n",
       "      <td>49</td>\n",
       "      <td>65</td>\n",
       "      <td>65</td>\n",
       "      <td>45</td>\n",
       "      <td>1</td>\n",
       "      <td>False</td>\n",
       "    </tr>\n",
       "    <tr>\n",
       "      <th>1</th>\n",
       "      <td>2</td>\n",
       "      <td>Ivysaur</td>\n",
       "      <td>Grass</td>\n",
       "      <td>Poison</td>\n",
       "      <td>405</td>\n",
       "      <td>60</td>\n",
       "      <td>62</td>\n",
       "      <td>63</td>\n",
       "      <td>80</td>\n",
       "      <td>80</td>\n",
       "      <td>60</td>\n",
       "      <td>1</td>\n",
       "      <td>False</td>\n",
       "    </tr>\n",
       "    <tr>\n",
       "      <th>2</th>\n",
       "      <td>3</td>\n",
       "      <td>Venusaur</td>\n",
       "      <td>Grass</td>\n",
       "      <td>Poison</td>\n",
       "      <td>525</td>\n",
       "      <td>80</td>\n",
       "      <td>82</td>\n",
       "      <td>83</td>\n",
       "      <td>100</td>\n",
       "      <td>100</td>\n",
       "      <td>80</td>\n",
       "      <td>1</td>\n",
       "      <td>False</td>\n",
       "    </tr>\n",
       "    <tr>\n",
       "      <th>3</th>\n",
       "      <td>3</td>\n",
       "      <td>VenusaurMega Venusaur</td>\n",
       "      <td>Grass</td>\n",
       "      <td>Poison</td>\n",
       "      <td>625</td>\n",
       "      <td>80</td>\n",
       "      <td>100</td>\n",
       "      <td>123</td>\n",
       "      <td>122</td>\n",
       "      <td>120</td>\n",
       "      <td>80</td>\n",
       "      <td>1</td>\n",
       "      <td>False</td>\n",
       "    </tr>\n",
       "    <tr>\n",
       "      <th>4</th>\n",
       "      <td>4</td>\n",
       "      <td>Charmander</td>\n",
       "      <td>Fire</td>\n",
       "      <td>NaN</td>\n",
       "      <td>309</td>\n",
       "      <td>39</td>\n",
       "      <td>52</td>\n",
       "      <td>43</td>\n",
       "      <td>60</td>\n",
       "      <td>50</td>\n",
       "      <td>65</td>\n",
       "      <td>1</td>\n",
       "      <td>False</td>\n",
       "    </tr>\n",
       "    <tr>\n",
       "      <th>...</th>\n",
       "      <td>...</td>\n",
       "      <td>...</td>\n",
       "      <td>...</td>\n",
       "      <td>...</td>\n",
       "      <td>...</td>\n",
       "      <td>...</td>\n",
       "      <td>...</td>\n",
       "      <td>...</td>\n",
       "      <td>...</td>\n",
       "      <td>...</td>\n",
       "      <td>...</td>\n",
       "      <td>...</td>\n",
       "      <td>...</td>\n",
       "    </tr>\n",
       "    <tr>\n",
       "      <th>795</th>\n",
       "      <td>719</td>\n",
       "      <td>Diancie</td>\n",
       "      <td>Rock</td>\n",
       "      <td>Fairy</td>\n",
       "      <td>600</td>\n",
       "      <td>50</td>\n",
       "      <td>100</td>\n",
       "      <td>150</td>\n",
       "      <td>100</td>\n",
       "      <td>150</td>\n",
       "      <td>50</td>\n",
       "      <td>6</td>\n",
       "      <td>True</td>\n",
       "    </tr>\n",
       "    <tr>\n",
       "      <th>796</th>\n",
       "      <td>719</td>\n",
       "      <td>DiancieMega Diancie</td>\n",
       "      <td>Rock</td>\n",
       "      <td>Fairy</td>\n",
       "      <td>700</td>\n",
       "      <td>50</td>\n",
       "      <td>160</td>\n",
       "      <td>110</td>\n",
       "      <td>160</td>\n",
       "      <td>110</td>\n",
       "      <td>110</td>\n",
       "      <td>6</td>\n",
       "      <td>True</td>\n",
       "    </tr>\n",
       "    <tr>\n",
       "      <th>797</th>\n",
       "      <td>720</td>\n",
       "      <td>HoopaHoopa Confined</td>\n",
       "      <td>Psychic</td>\n",
       "      <td>Ghost</td>\n",
       "      <td>600</td>\n",
       "      <td>80</td>\n",
       "      <td>110</td>\n",
       "      <td>60</td>\n",
       "      <td>150</td>\n",
       "      <td>130</td>\n",
       "      <td>70</td>\n",
       "      <td>6</td>\n",
       "      <td>True</td>\n",
       "    </tr>\n",
       "    <tr>\n",
       "      <th>798</th>\n",
       "      <td>720</td>\n",
       "      <td>HoopaHoopa Unbound</td>\n",
       "      <td>Psychic</td>\n",
       "      <td>Dark</td>\n",
       "      <td>680</td>\n",
       "      <td>80</td>\n",
       "      <td>160</td>\n",
       "      <td>60</td>\n",
       "      <td>170</td>\n",
       "      <td>130</td>\n",
       "      <td>80</td>\n",
       "      <td>6</td>\n",
       "      <td>True</td>\n",
       "    </tr>\n",
       "    <tr>\n",
       "      <th>799</th>\n",
       "      <td>721</td>\n",
       "      <td>Volcanion</td>\n",
       "      <td>Fire</td>\n",
       "      <td>Water</td>\n",
       "      <td>600</td>\n",
       "      <td>80</td>\n",
       "      <td>110</td>\n",
       "      <td>120</td>\n",
       "      <td>130</td>\n",
       "      <td>90</td>\n",
       "      <td>70</td>\n",
       "      <td>6</td>\n",
       "      <td>True</td>\n",
       "    </tr>\n",
       "  </tbody>\n",
       "</table>\n",
       "<p>800 rows × 13 columns</p>\n",
       "</div>"
      ],
      "text/plain": [
       "       #                   Name   Type 1  Type 2  Total  HP  Attack  Defense  \\\n",
       "0      1              Bulbasaur    Grass  Poison    318  45      49       49   \n",
       "1      2                Ivysaur    Grass  Poison    405  60      62       63   \n",
       "2      3               Venusaur    Grass  Poison    525  80      82       83   \n",
       "3      3  VenusaurMega Venusaur    Grass  Poison    625  80     100      123   \n",
       "4      4             Charmander     Fire     NaN    309  39      52       43   \n",
       "..   ...                    ...      ...     ...    ...  ..     ...      ...   \n",
       "795  719                Diancie     Rock   Fairy    600  50     100      150   \n",
       "796  719    DiancieMega Diancie     Rock   Fairy    700  50     160      110   \n",
       "797  720    HoopaHoopa Confined  Psychic   Ghost    600  80     110       60   \n",
       "798  720     HoopaHoopa Unbound  Psychic    Dark    680  80     160       60   \n",
       "799  721              Volcanion     Fire   Water    600  80     110      120   \n",
       "\n",
       "     Sp. Atk  Sp. Def  Speed  Generation  Legendary  \n",
       "0         65       65     45           1      False  \n",
       "1         80       80     60           1      False  \n",
       "2        100      100     80           1      False  \n",
       "3        122      120     80           1      False  \n",
       "4         60       50     65           1      False  \n",
       "..       ...      ...    ...         ...        ...  \n",
       "795      100      150     50           6       True  \n",
       "796      160      110    110           6       True  \n",
       "797      150      130     70           6       True  \n",
       "798      170      130     80           6       True  \n",
       "799      130       90     70           6       True  \n",
       "\n",
       "[800 rows x 13 columns]"
      ]
     },
     "execution_count": 3,
     "metadata": {},
     "output_type": "execute_result"
    }
   ],
   "source": [
    "data"
   ]
  },
  {
   "cell_type": "markdown",
   "id": "d1a9cbba",
   "metadata": {},
   "source": [
    "Columns description (it's crucial!)\n",
    "\n",
    "\n",
    "- #: ID for each pokemon\n",
    "- Name: Name of each pokemon\n",
    "- Type 1: Each pokemon has a type, this determines weakness/resistance to attacks\n",
    "- Type 2: Some pokemon are dual type and have 2\n",
    "- Total: sum of all stats that come after this, a general guide to how strong a pokemon is\n",
    "- HP: hit points, or health, defines how much damage a pokemon can withstand before fainting\n",
    "- Attack: the base modifier for normal attacks (eg. Scratch, Punch)\n",
    "- Defense: the base damage resistance against normal attacks\n",
    "- SP Atk: special attack, the base modifier for special attacks (e.g. fire blast, bubble beam)\n",
    "- SP Def: the base damage resistance against special attacks\n",
    "- Speed: determines which pokemon attacks first each round"
   ]
  },
  {
   "cell_type": "code",
   "execution_count": 5,
   "id": "6c33036d",
   "metadata": {
    "ExecuteTime": {
     "end_time": "2021-10-24T20:18:18.393785Z",
     "start_time": "2021-10-24T20:18:18.385916Z"
    }
   },
   "outputs": [
    {
     "data": {
      "text/plain": [
       "#               0\n",
       "Name            0\n",
       "Type 1          0\n",
       "Type 2        386\n",
       "Total           0\n",
       "HP              0\n",
       "Attack          0\n",
       "Defense         0\n",
       "Sp. Atk         0\n",
       "Sp. Def         0\n",
       "Speed           0\n",
       "Generation      0\n",
       "Legendary       0\n",
       "dtype: int64"
      ]
     },
     "metadata": {},
     "output_type": "display_data"
    }
   ],
   "source": [
    "# fillna and drop useless cols\n",
    "\n",
    "display(data.isnull().sum())\n",
    "data['Type 2'] = data['Type 2'].fillna('No 2nd type')"
   ]
  },
  {
   "cell_type": "code",
   "execution_count": 6,
   "id": "7ba1a55a",
   "metadata": {},
   "outputs": [
    {
     "data": {
      "text/plain": [
       "#             0\n",
       "Name          0\n",
       "Type 1        0\n",
       "Type 2        0\n",
       "Total         0\n",
       "HP            0\n",
       "Attack        0\n",
       "Defense       0\n",
       "Sp. Atk       0\n",
       "Sp. Def       0\n",
       "Speed         0\n",
       "Generation    0\n",
       "Legendary     0\n",
       "dtype: int64"
      ]
     },
     "metadata": {},
     "output_type": "display_data"
    }
   ],
   "source": [
    "display(data.isnull().sum())"
   ]
  },
  {
   "cell_type": "code",
   "execution_count": 7,
   "id": "e14818eb",
   "metadata": {},
   "outputs": [],
   "source": [
    "data.drop(columns=['#'], inplace=True)"
   ]
  },
  {
   "cell_type": "code",
   "execution_count": 17,
   "id": "b7815aae",
   "metadata": {},
   "outputs": [],
   "source": [
    "data.drop(columns=['Name'], inplace=True)"
   ]
  },
  {
   "cell_type": "code",
   "execution_count": 18,
   "id": "3a975c53",
   "metadata": {},
   "outputs": [
    {
     "data": {
      "text/html": [
       "<div>\n",
       "<style scoped>\n",
       "    .dataframe tbody tr th:only-of-type {\n",
       "        vertical-align: middle;\n",
       "    }\n",
       "\n",
       "    .dataframe tbody tr th {\n",
       "        vertical-align: top;\n",
       "    }\n",
       "\n",
       "    .dataframe thead th {\n",
       "        text-align: right;\n",
       "    }\n",
       "</style>\n",
       "<table border=\"1\" class=\"dataframe\">\n",
       "  <thead>\n",
       "    <tr style=\"text-align: right;\">\n",
       "      <th></th>\n",
       "      <th>Type 1</th>\n",
       "      <th>Type 2</th>\n",
       "      <th>Total</th>\n",
       "      <th>HP</th>\n",
       "      <th>Attack</th>\n",
       "      <th>Defense</th>\n",
       "      <th>Sp. Atk</th>\n",
       "      <th>Sp. Def</th>\n",
       "      <th>Speed</th>\n",
       "      <th>Generation</th>\n",
       "      <th>Legendary</th>\n",
       "    </tr>\n",
       "  </thead>\n",
       "  <tbody>\n",
       "    <tr>\n",
       "      <th>0</th>\n",
       "      <td>Grass</td>\n",
       "      <td>Poison</td>\n",
       "      <td>318</td>\n",
       "      <td>45</td>\n",
       "      <td>49</td>\n",
       "      <td>49</td>\n",
       "      <td>65</td>\n",
       "      <td>65</td>\n",
       "      <td>45</td>\n",
       "      <td>1</td>\n",
       "      <td>False</td>\n",
       "    </tr>\n",
       "    <tr>\n",
       "      <th>1</th>\n",
       "      <td>Grass</td>\n",
       "      <td>Poison</td>\n",
       "      <td>405</td>\n",
       "      <td>60</td>\n",
       "      <td>62</td>\n",
       "      <td>63</td>\n",
       "      <td>80</td>\n",
       "      <td>80</td>\n",
       "      <td>60</td>\n",
       "      <td>1</td>\n",
       "      <td>False</td>\n",
       "    </tr>\n",
       "    <tr>\n",
       "      <th>2</th>\n",
       "      <td>Grass</td>\n",
       "      <td>Poison</td>\n",
       "      <td>525</td>\n",
       "      <td>80</td>\n",
       "      <td>82</td>\n",
       "      <td>83</td>\n",
       "      <td>100</td>\n",
       "      <td>100</td>\n",
       "      <td>80</td>\n",
       "      <td>1</td>\n",
       "      <td>False</td>\n",
       "    </tr>\n",
       "    <tr>\n",
       "      <th>3</th>\n",
       "      <td>Grass</td>\n",
       "      <td>Poison</td>\n",
       "      <td>625</td>\n",
       "      <td>80</td>\n",
       "      <td>100</td>\n",
       "      <td>123</td>\n",
       "      <td>122</td>\n",
       "      <td>120</td>\n",
       "      <td>80</td>\n",
       "      <td>1</td>\n",
       "      <td>False</td>\n",
       "    </tr>\n",
       "    <tr>\n",
       "      <th>4</th>\n",
       "      <td>Fire</td>\n",
       "      <td>No 2nd type</td>\n",
       "      <td>309</td>\n",
       "      <td>39</td>\n",
       "      <td>52</td>\n",
       "      <td>43</td>\n",
       "      <td>60</td>\n",
       "      <td>50</td>\n",
       "      <td>65</td>\n",
       "      <td>1</td>\n",
       "      <td>False</td>\n",
       "    </tr>\n",
       "    <tr>\n",
       "      <th>...</th>\n",
       "      <td>...</td>\n",
       "      <td>...</td>\n",
       "      <td>...</td>\n",
       "      <td>...</td>\n",
       "      <td>...</td>\n",
       "      <td>...</td>\n",
       "      <td>...</td>\n",
       "      <td>...</td>\n",
       "      <td>...</td>\n",
       "      <td>...</td>\n",
       "      <td>...</td>\n",
       "    </tr>\n",
       "    <tr>\n",
       "      <th>795</th>\n",
       "      <td>Rock</td>\n",
       "      <td>Fairy</td>\n",
       "      <td>600</td>\n",
       "      <td>50</td>\n",
       "      <td>100</td>\n",
       "      <td>150</td>\n",
       "      <td>100</td>\n",
       "      <td>150</td>\n",
       "      <td>50</td>\n",
       "      <td>6</td>\n",
       "      <td>True</td>\n",
       "    </tr>\n",
       "    <tr>\n",
       "      <th>796</th>\n",
       "      <td>Rock</td>\n",
       "      <td>Fairy</td>\n",
       "      <td>700</td>\n",
       "      <td>50</td>\n",
       "      <td>160</td>\n",
       "      <td>110</td>\n",
       "      <td>160</td>\n",
       "      <td>110</td>\n",
       "      <td>110</td>\n",
       "      <td>6</td>\n",
       "      <td>True</td>\n",
       "    </tr>\n",
       "    <tr>\n",
       "      <th>797</th>\n",
       "      <td>Psychic</td>\n",
       "      <td>Ghost</td>\n",
       "      <td>600</td>\n",
       "      <td>80</td>\n",
       "      <td>110</td>\n",
       "      <td>60</td>\n",
       "      <td>150</td>\n",
       "      <td>130</td>\n",
       "      <td>70</td>\n",
       "      <td>6</td>\n",
       "      <td>True</td>\n",
       "    </tr>\n",
       "    <tr>\n",
       "      <th>798</th>\n",
       "      <td>Psychic</td>\n",
       "      <td>Dark</td>\n",
       "      <td>680</td>\n",
       "      <td>80</td>\n",
       "      <td>160</td>\n",
       "      <td>60</td>\n",
       "      <td>170</td>\n",
       "      <td>130</td>\n",
       "      <td>80</td>\n",
       "      <td>6</td>\n",
       "      <td>True</td>\n",
       "    </tr>\n",
       "    <tr>\n",
       "      <th>799</th>\n",
       "      <td>Fire</td>\n",
       "      <td>Water</td>\n",
       "      <td>600</td>\n",
       "      <td>80</td>\n",
       "      <td>110</td>\n",
       "      <td>120</td>\n",
       "      <td>130</td>\n",
       "      <td>90</td>\n",
       "      <td>70</td>\n",
       "      <td>6</td>\n",
       "      <td>True</td>\n",
       "    </tr>\n",
       "  </tbody>\n",
       "</table>\n",
       "<p>800 rows × 11 columns</p>\n",
       "</div>"
      ],
      "text/plain": [
       "      Type 1       Type 2  Total  HP  Attack  Defense  Sp. Atk  Sp. Def  \\\n",
       "0      Grass       Poison    318  45      49       49       65       65   \n",
       "1      Grass       Poison    405  60      62       63       80       80   \n",
       "2      Grass       Poison    525  80      82       83      100      100   \n",
       "3      Grass       Poison    625  80     100      123      122      120   \n",
       "4       Fire  No 2nd type    309  39      52       43       60       50   \n",
       "..       ...          ...    ...  ..     ...      ...      ...      ...   \n",
       "795     Rock        Fairy    600  50     100      150      100      150   \n",
       "796     Rock        Fairy    700  50     160      110      160      110   \n",
       "797  Psychic        Ghost    600  80     110       60      150      130   \n",
       "798  Psychic         Dark    680  80     160       60      170      130   \n",
       "799     Fire        Water    600  80     110      120      130       90   \n",
       "\n",
       "     Speed  Generation  Legendary  \n",
       "0       45           1      False  \n",
       "1       60           1      False  \n",
       "2       80           1      False  \n",
       "3       80           1      False  \n",
       "4       65           1      False  \n",
       "..     ...         ...        ...  \n",
       "795     50           6       True  \n",
       "796    110           6       True  \n",
       "797     70           6       True  \n",
       "798     80           6       True  \n",
       "799     70           6       True  \n",
       "\n",
       "[800 rows x 11 columns]"
      ]
     },
     "execution_count": 18,
     "metadata": {},
     "output_type": "execute_result"
    }
   ],
   "source": [
    "data"
   ]
  },
  {
   "cell_type": "code",
   "execution_count": 21,
   "id": "1aa6ef09",
   "metadata": {
    "ExecuteTime": {
     "end_time": "2021-10-24T20:18:19.432056Z",
     "start_time": "2021-10-24T20:18:19.428250Z"
    }
   },
   "outputs": [],
   "source": [
    "X = data.drop(columns='Legendary')\n",
    "y = data['Legendary'].astype('int')"
   ]
  },
  {
   "cell_type": "code",
   "execution_count": 11,
   "id": "04fadcaf",
   "metadata": {},
   "outputs": [
    {
     "data": {
      "text/plain": [
       "0    735\n",
       "1     65\n",
       "Name: Legendary, dtype: int64"
      ]
     },
     "execution_count": 11,
     "metadata": {},
     "output_type": "execute_result"
    }
   ],
   "source": [
    "y.value_counts()"
   ]
  },
  {
   "cell_type": "code",
   "execution_count": 12,
   "id": "878204c5",
   "metadata": {
    "ExecuteTime": {
     "end_time": "2021-10-24T20:18:20.023876Z",
     "start_time": "2021-10-24T20:18:20.018390Z"
    }
   },
   "outputs": [
    {
     "data": {
      "text/plain": [
       "0    0.91875\n",
       "1    0.08125\n",
       "Name: Legendary, dtype: float64"
      ]
     },
     "execution_count": 12,
     "metadata": {},
     "output_type": "execute_result"
    }
   ],
   "source": [
    "y.value_counts(normalize=True)"
   ]
  },
  {
   "cell_type": "markdown",
   "id": "9c472aab",
   "metadata": {},
   "source": [
    "# Make some default pipeline"
   ]
  },
  {
   "cell_type": "code",
   "execution_count": 13,
   "id": "6f8ce25a",
   "metadata": {
    "ExecuteTime": {
     "end_time": "2021-10-24T20:18:25.238240Z",
     "start_time": "2021-10-24T20:18:24.565781Z"
    }
   },
   "outputs": [],
   "source": [
    "from sklearn.feature_selection import SelectKBest, SelectPercentile\n",
    "from sklearn.pipeline import Pipeline\n",
    "from sklearn.preprocessing import PolynomialFeatures, StandardScaler\n",
    "from category_encoders.leave_one_out import LeaveOneOutEncoder\n",
    "from sklearn.svm import SVC\n",
    "from sklearn.model_selection import cross_validate\n",
    "import sklearn"
   ]
  },
  {
   "cell_type": "code",
   "execution_count": 14,
   "id": "a552fdfc",
   "metadata": {},
   "outputs": [
    {
     "data": {
      "text/html": [
       "<div>\n",
       "<style scoped>\n",
       "    .dataframe tbody tr th:only-of-type {\n",
       "        vertical-align: middle;\n",
       "    }\n",
       "\n",
       "    .dataframe tbody tr th {\n",
       "        vertical-align: top;\n",
       "    }\n",
       "\n",
       "    .dataframe thead th {\n",
       "        text-align: right;\n",
       "    }\n",
       "</style>\n",
       "<table border=\"1\" class=\"dataframe\">\n",
       "  <thead>\n",
       "    <tr style=\"text-align: right;\">\n",
       "      <th></th>\n",
       "      <th>Name</th>\n",
       "      <th>Type 1</th>\n",
       "      <th>Type 2</th>\n",
       "      <th>Total</th>\n",
       "      <th>HP</th>\n",
       "      <th>Attack</th>\n",
       "      <th>Defense</th>\n",
       "      <th>Sp. Atk</th>\n",
       "      <th>Sp. Def</th>\n",
       "      <th>Speed</th>\n",
       "      <th>Generation</th>\n",
       "      <th>Legendary</th>\n",
       "    </tr>\n",
       "  </thead>\n",
       "  <tbody>\n",
       "    <tr>\n",
       "      <th>0</th>\n",
       "      <td>Bulbasaur</td>\n",
       "      <td>Grass</td>\n",
       "      <td>Poison</td>\n",
       "      <td>318</td>\n",
       "      <td>45</td>\n",
       "      <td>49</td>\n",
       "      <td>49</td>\n",
       "      <td>65</td>\n",
       "      <td>65</td>\n",
       "      <td>45</td>\n",
       "      <td>1</td>\n",
       "      <td>False</td>\n",
       "    </tr>\n",
       "    <tr>\n",
       "      <th>1</th>\n",
       "      <td>Ivysaur</td>\n",
       "      <td>Grass</td>\n",
       "      <td>Poison</td>\n",
       "      <td>405</td>\n",
       "      <td>60</td>\n",
       "      <td>62</td>\n",
       "      <td>63</td>\n",
       "      <td>80</td>\n",
       "      <td>80</td>\n",
       "      <td>60</td>\n",
       "      <td>1</td>\n",
       "      <td>False</td>\n",
       "    </tr>\n",
       "  </tbody>\n",
       "</table>\n",
       "</div>"
      ],
      "text/plain": [
       "        Name Type 1  Type 2  Total  HP  Attack  Defense  Sp. Atk  Sp. Def  \\\n",
       "0  Bulbasaur  Grass  Poison    318  45      49       49       65       65   \n",
       "1    Ivysaur  Grass  Poison    405  60      62       63       80       80   \n",
       "\n",
       "   Speed  Generation  Legendary  \n",
       "0     45           1      False  \n",
       "1     60           1      False  "
      ]
     },
     "execution_count": 14,
     "metadata": {},
     "output_type": "execute_result"
    }
   ],
   "source": [
    "data.head(2)"
   ]
  },
  {
   "cell_type": "code",
   "execution_count": 19,
   "id": "2bcc359b",
   "metadata": {
    "ExecuteTime": {
     "end_time": "2021-10-24T20:18:25.243494Z",
     "start_time": "2021-10-24T20:18:25.240399Z"
    }
   },
   "outputs": [],
   "source": [
    "# define cat_cols\n",
    "\n",
    "cat_cols = ['Type 1', 'Type 2']\n",
    "\n",
    "default_pipeline = Pipeline([\n",
    "    ('cat_encoder_', LeaveOneOutEncoder(cols=cat_cols)),\n",
    "    ('scaler_', StandardScaler()),\n",
    "    ('model_', SVC(kernel='linear'))]\n",
    ")"
   ]
  },
  {
   "cell_type": "code",
   "execution_count": 22,
   "id": "82e48cf0",
   "metadata": {
    "ExecuteTime": {
     "end_time": "2021-10-24T20:18:31.094311Z",
     "start_time": "2021-10-24T20:18:30.089861Z"
    }
   },
   "outputs": [],
   "source": [
    "cv_res1 = cross_validate(default_pipeline,\n",
    "                        X,\n",
    "                        y,\n",
    "                        cv=5,\n",
    "                        scoring='f1',\n",
    "                        n_jobs=-1,\n",
    "                        return_train_score=True\n",
    "                       )"
   ]
  },
  {
   "cell_type": "code",
   "execution_count": 23,
   "id": "44e13e7d",
   "metadata": {
    "ExecuteTime": {
     "end_time": "2021-10-24T20:18:33.772638Z",
     "start_time": "2021-10-24T20:18:33.767530Z"
    }
   },
   "outputs": [
    {
     "data": {
      "text/plain": [
       "{'fit_time': array([0.19907188, 0.16871667, 0.16913414, 0.1853261 , 0.16838288]),\n",
       " 'score_time': array([0.00869107, 0.00789714, 0.00791311, 0.00830603, 0.00830913]),\n",
       " 'test_score': array([0.5       , 0.72727273, 0.47619048, 0.38095238, 0.64864865]),\n",
       " 'train_score': array([0.71287129, 0.56097561, 0.6744186 , 0.7311828 , 0.72727273])}"
      ]
     },
     "execution_count": 23,
     "metadata": {},
     "output_type": "execute_result"
    }
   ],
   "source": [
    "cv_res1"
   ]
  },
  {
   "cell_type": "code",
   "execution_count": 24,
   "id": "2a5c9937",
   "metadata": {
    "ExecuteTime": {
     "end_time": "2021-10-24T20:19:02.086505Z",
     "start_time": "2021-10-24T20:19:02.082394Z"
    }
   },
   "outputs": [
    {
     "data": {
      "text/plain": [
       "0.5466128466128467"
      ]
     },
     "execution_count": 24,
     "metadata": {},
     "output_type": "execute_result"
    }
   ],
   "source": [
    "cv_res1['test_score'].mean()"
   ]
  },
  {
   "cell_type": "markdown",
   "id": "656cec4a",
   "metadata": {},
   "source": [
    "# Make pipeline more complicated"
   ]
  },
  {
   "cell_type": "code",
   "execution_count": 25,
   "id": "91d0bb6c",
   "metadata": {
    "ExecuteTime": {
     "end_time": "2021-10-24T20:19:08.097819Z",
     "start_time": "2021-10-24T20:19:08.094458Z"
    }
   },
   "outputs": [],
   "source": [
    "# difficult pipeline\n",
    "\n",
    "pipe_dif = Pipeline([\n",
    "    ('cat_encoder_', LeaveOneOutEncoder(cols=cat_cols)),\n",
    "    ('poly_featurizer_', PolynomialFeatures(degree=4)),\n",
    "    ('scaler_', StandardScaler()),\n",
    "    ('model_', SVC(kernel='linear'))]\n",
    ")"
   ]
  },
  {
   "cell_type": "code",
   "execution_count": 26,
   "id": "043c7874",
   "metadata": {
    "ExecuteTime": {
     "end_time": "2021-10-24T20:19:11.534278Z",
     "start_time": "2021-10-24T20:19:10.844040Z"
    }
   },
   "outputs": [
    {
     "data": {
      "text/plain": [
       "{'fit_time': array([0.08517003, 0.13080215, 0.12634587, 0.07715607, 0.17890787]),\n",
       " 'score_time': array([0.02143884, 0.01647091, 0.01552606, 0.0092988 , 0.01028419]),\n",
       " 'test_score': array([0.375     , 0.88888889, 0.5       , 0.66666667, 0.53658537]),\n",
       " 'train_score': array([0.95145631, 0.89583333, 0.97142857, 0.96153846, 0.98076923])}"
      ]
     },
     "execution_count": 26,
     "metadata": {},
     "output_type": "execute_result"
    }
   ],
   "source": [
    "cv_res2 = cross_validate(pipe_dif,\n",
    "                        X,\n",
    "                        y,\n",
    "                        cv=5,\n",
    "                        scoring='f1',\n",
    "                        n_jobs=-1,\n",
    "                        return_train_score=True\n",
    "                       )\n",
    "\n",
    "cv_res2"
   ]
  },
  {
   "cell_type": "code",
   "execution_count": 27,
   "id": "f2b6db14",
   "metadata": {
    "ExecuteTime": {
     "end_time": "2021-10-24T20:19:28.657790Z",
     "start_time": "2021-10-24T20:19:28.653899Z"
    }
   },
   "outputs": [
    {
     "data": {
      "text/plain": [
       "0.5934281842818427"
      ]
     },
     "execution_count": 27,
     "metadata": {},
     "output_type": "execute_result"
    }
   ],
   "source": [
    "cv_res2['test_score'].mean()"
   ]
  },
  {
   "cell_type": "markdown",
   "id": "2140079b",
   "metadata": {
    "ExecuteTime": {
     "end_time": "2021-10-24T13:09:24.240561Z",
     "start_time": "2021-10-24T13:09:24.235947Z"
    }
   },
   "source": [
    "train_score - просто класс ! модель получилась сложная, только очевидно переобученная ...\n",
    "\n",
    "согласны, узнали ?\n"
   ]
  },
  {
   "cell_type": "markdown",
   "id": "627abc90",
   "metadata": {},
   "source": [
    "# Introduce feature selectors"
   ]
  },
  {
   "cell_type": "code",
   "execution_count": 28,
   "id": "a13a5ee0",
   "metadata": {
    "ExecuteTime": {
     "end_time": "2021-10-24T20:19:41.314430Z",
     "start_time": "2021-10-24T20:19:41.311959Z"
    }
   },
   "outputs": [],
   "source": [
    "data_tr = pipe_dif[:-1]"
   ]
  },
  {
   "cell_type": "code",
   "execution_count": 29,
   "id": "8774e6a3",
   "metadata": {
    "ExecuteTime": {
     "end_time": "2021-10-24T20:19:41.681665Z",
     "start_time": "2021-10-24T20:19:41.675526Z"
    }
   },
   "outputs": [
    {
     "data": {
      "text/html": [
       "<style>#sk-container-id-1 {color: black;background-color: white;}#sk-container-id-1 pre{padding: 0;}#sk-container-id-1 div.sk-toggleable {background-color: white;}#sk-container-id-1 label.sk-toggleable__label {cursor: pointer;display: block;width: 100%;margin-bottom: 0;padding: 0.3em;box-sizing: border-box;text-align: center;}#sk-container-id-1 label.sk-toggleable__label-arrow:before {content: \"▸\";float: left;margin-right: 0.25em;color: #696969;}#sk-container-id-1 label.sk-toggleable__label-arrow:hover:before {color: black;}#sk-container-id-1 div.sk-estimator:hover label.sk-toggleable__label-arrow:before {color: black;}#sk-container-id-1 div.sk-toggleable__content {max-height: 0;max-width: 0;overflow: hidden;text-align: left;background-color: #f0f8ff;}#sk-container-id-1 div.sk-toggleable__content pre {margin: 0.2em;color: black;border-radius: 0.25em;background-color: #f0f8ff;}#sk-container-id-1 input.sk-toggleable__control:checked~div.sk-toggleable__content {max-height: 200px;max-width: 100%;overflow: auto;}#sk-container-id-1 input.sk-toggleable__control:checked~label.sk-toggleable__label-arrow:before {content: \"▾\";}#sk-container-id-1 div.sk-estimator input.sk-toggleable__control:checked~label.sk-toggleable__label {background-color: #d4ebff;}#sk-container-id-1 div.sk-label input.sk-toggleable__control:checked~label.sk-toggleable__label {background-color: #d4ebff;}#sk-container-id-1 input.sk-hidden--visually {border: 0;clip: rect(1px 1px 1px 1px);clip: rect(1px, 1px, 1px, 1px);height: 1px;margin: -1px;overflow: hidden;padding: 0;position: absolute;width: 1px;}#sk-container-id-1 div.sk-estimator {font-family: monospace;background-color: #f0f8ff;border: 1px dotted black;border-radius: 0.25em;box-sizing: border-box;margin-bottom: 0.5em;}#sk-container-id-1 div.sk-estimator:hover {background-color: #d4ebff;}#sk-container-id-1 div.sk-parallel-item::after {content: \"\";width: 100%;border-bottom: 1px solid gray;flex-grow: 1;}#sk-container-id-1 div.sk-label:hover label.sk-toggleable__label {background-color: #d4ebff;}#sk-container-id-1 div.sk-serial::before {content: \"\";position: absolute;border-left: 1px solid gray;box-sizing: border-box;top: 0;bottom: 0;left: 50%;z-index: 0;}#sk-container-id-1 div.sk-serial {display: flex;flex-direction: column;align-items: center;background-color: white;padding-right: 0.2em;padding-left: 0.2em;position: relative;}#sk-container-id-1 div.sk-item {position: relative;z-index: 1;}#sk-container-id-1 div.sk-parallel {display: flex;align-items: stretch;justify-content: center;background-color: white;position: relative;}#sk-container-id-1 div.sk-item::before, #sk-container-id-1 div.sk-parallel-item::before {content: \"\";position: absolute;border-left: 1px solid gray;box-sizing: border-box;top: 0;bottom: 0;left: 50%;z-index: -1;}#sk-container-id-1 div.sk-parallel-item {display: flex;flex-direction: column;z-index: 1;position: relative;background-color: white;}#sk-container-id-1 div.sk-parallel-item:first-child::after {align-self: flex-end;width: 50%;}#sk-container-id-1 div.sk-parallel-item:last-child::after {align-self: flex-start;width: 50%;}#sk-container-id-1 div.sk-parallel-item:only-child::after {width: 0;}#sk-container-id-1 div.sk-dashed-wrapped {border: 1px dashed gray;margin: 0 0.4em 0.5em 0.4em;box-sizing: border-box;padding-bottom: 0.4em;background-color: white;}#sk-container-id-1 div.sk-label label {font-family: monospace;font-weight: bold;display: inline-block;line-height: 1.2em;}#sk-container-id-1 div.sk-label-container {text-align: center;}#sk-container-id-1 div.sk-container {/* jupyter's `normalize.less` sets `[hidden] { display: none; }` but bootstrap.min.css set `[hidden] { display: none !important; }` so we also need the `!important` here to be able to override the default hidden behavior on the sphinx rendered scikit-learn.org. See: https://github.com/scikit-learn/scikit-learn/issues/21755 */display: inline-block !important;position: relative;}#sk-container-id-1 div.sk-text-repr-fallback {display: none;}</style><div id=\"sk-container-id-1\" class=\"sk-top-container\"><div class=\"sk-text-repr-fallback\"><pre>Pipeline(steps=[(&#x27;cat_encoder_&#x27;, LeaveOneOutEncoder(cols=[&#x27;Type 1&#x27;, &#x27;Type 2&#x27;])),\n",
       "                (&#x27;poly_featurizer_&#x27;, PolynomialFeatures(degree=4)),\n",
       "                (&#x27;scaler_&#x27;, StandardScaler())])</pre><b>In a Jupyter environment, please rerun this cell to show the HTML representation or trust the notebook. <br />On GitHub, the HTML representation is unable to render, please try loading this page with nbviewer.org.</b></div><div class=\"sk-container\" hidden><div class=\"sk-item sk-dashed-wrapped\"><div class=\"sk-label-container\"><div class=\"sk-label sk-toggleable\"><input class=\"sk-toggleable__control sk-hidden--visually\" id=\"sk-estimator-id-1\" type=\"checkbox\" ><label for=\"sk-estimator-id-1\" class=\"sk-toggleable__label sk-toggleable__label-arrow\">Pipeline</label><div class=\"sk-toggleable__content\"><pre>Pipeline(steps=[(&#x27;cat_encoder_&#x27;, LeaveOneOutEncoder(cols=[&#x27;Type 1&#x27;, &#x27;Type 2&#x27;])),\n",
       "                (&#x27;poly_featurizer_&#x27;, PolynomialFeatures(degree=4)),\n",
       "                (&#x27;scaler_&#x27;, StandardScaler())])</pre></div></div></div><div class=\"sk-serial\"><div class=\"sk-item\"><div class=\"sk-estimator sk-toggleable\"><input class=\"sk-toggleable__control sk-hidden--visually\" id=\"sk-estimator-id-2\" type=\"checkbox\" ><label for=\"sk-estimator-id-2\" class=\"sk-toggleable__label sk-toggleable__label-arrow\">LeaveOneOutEncoder</label><div class=\"sk-toggleable__content\"><pre>LeaveOneOutEncoder(cols=[&#x27;Type 1&#x27;, &#x27;Type 2&#x27;])</pre></div></div></div><div class=\"sk-item\"><div class=\"sk-estimator sk-toggleable\"><input class=\"sk-toggleable__control sk-hidden--visually\" id=\"sk-estimator-id-3\" type=\"checkbox\" ><label for=\"sk-estimator-id-3\" class=\"sk-toggleable__label sk-toggleable__label-arrow\">PolynomialFeatures</label><div class=\"sk-toggleable__content\"><pre>PolynomialFeatures(degree=4)</pre></div></div></div><div class=\"sk-item\"><div class=\"sk-estimator sk-toggleable\"><input class=\"sk-toggleable__control sk-hidden--visually\" id=\"sk-estimator-id-4\" type=\"checkbox\" ><label for=\"sk-estimator-id-4\" class=\"sk-toggleable__label sk-toggleable__label-arrow\">StandardScaler</label><div class=\"sk-toggleable__content\"><pre>StandardScaler()</pre></div></div></div></div></div></div></div>"
      ],
      "text/plain": [
       "Pipeline(steps=[('cat_encoder_', LeaveOneOutEncoder(cols=['Type 1', 'Type 2'])),\n",
       "                ('poly_featurizer_', PolynomialFeatures(degree=4)),\n",
       "                ('scaler_', StandardScaler())])"
      ]
     },
     "execution_count": 29,
     "metadata": {},
     "output_type": "execute_result"
    }
   ],
   "source": [
    "data_tr"
   ]
  },
  {
   "cell_type": "code",
   "execution_count": 31,
   "id": "72a4fff7",
   "metadata": {},
   "outputs": [
    {
     "data": {
      "text/plain": [
       "(800, 10)"
      ]
     },
     "execution_count": 31,
     "metadata": {},
     "output_type": "execute_result"
    }
   ],
   "source": [
    "X.shape"
   ]
  },
  {
   "cell_type": "code",
   "execution_count": 30,
   "id": "a8283cc3",
   "metadata": {
    "ExecuteTime": {
     "end_time": "2021-10-24T20:19:42.141996Z",
     "start_time": "2021-10-24T20:19:42.095336Z"
    }
   },
   "outputs": [
    {
     "name": "stdout",
     "output_type": "stream",
     "text": [
      "data shape after transformation is (800, 1001)\n"
     ]
    }
   ],
   "source": [
    "X_tr = data_tr.fit_transform(X, y)\n",
    "print(f'data shape after transformation is {X_tr.shape}')"
   ]
  },
  {
   "cell_type": "markdown",
   "id": "03c34410",
   "metadata": {},
   "source": [
    "1k признаков - многовато, добавим в пайплайн селектор"
   ]
  },
  {
   "cell_type": "markdown",
   "id": "ca460c89",
   "metadata": {},
   "source": [
    "## Фильтрационные методы\n",
    "\n",
    "Суть таких методов в том, чтобы для каждого признака посчитать некоторую метрику \"связи\" с целевым признаком. И в результате оставить топ-K признаков согласно выбранной метрике.\n",
    "\n",
    "В том числе на лекции обсуждались:\n",
    "\n",
    " - статистика хи-квадрат\n",
    " - метрика mutual information"
   ]
  },
  {
   "cell_type": "code",
   "execution_count": 32,
   "id": "0affd4e5",
   "metadata": {
    "ExecuteTime": {
     "end_time": "2021-10-24T20:19:58.410888Z",
     "start_time": "2021-10-24T20:19:58.408446Z"
    }
   },
   "outputs": [],
   "source": [
    "from sklearn.feature_selection import f_classif, chi2, mutual_info_classif"
   ]
  },
  {
   "cell_type": "code",
   "execution_count": 33,
   "id": "5c316b95",
   "metadata": {
    "ExecuteTime": {
     "end_time": "2021-10-24T20:20:00.536469Z",
     "start_time": "2021-10-24T20:20:00.532952Z"
    }
   },
   "outputs": [],
   "source": [
    "k_best = 30\n",
    "\n",
    "pipe = Pipeline([\n",
    "    ('cat_encoder_', LeaveOneOutEncoder(cols=cat_cols)),\n",
    "    ('poly_featurizer_', PolynomialFeatures(degree=4)),\n",
    "    ('scaler_', StandardScaler()),\n",
    "    ('selector_', SelectKBest(score_func=mutual_info_classif, k=30)), \n",
    "    ('model_', SVC(kernel='linear'))]\n",
    ")"
   ]
  },
  {
   "cell_type": "code",
   "execution_count": 34,
   "id": "fcc8b6c4",
   "metadata": {
    "ExecuteTime": {
     "end_time": "2021-10-24T20:20:18.022535Z",
     "start_time": "2021-10-24T20:20:06.144920Z"
    }
   },
   "outputs": [
    {
     "data": {
      "text/plain": [
       "{'fit_time': array([2.67352605, 2.38835406, 2.37538624, 2.36534214, 2.37673998]),\n",
       " 'score_time': array([0.00847888, 0.00846887, 0.00778699, 0.00764799, 0.00744987]),\n",
       " 'test_score': array([0.26666667, 0.8       , 0.61538462, 0.42105263, 0.4       ]),\n",
       " 'train_score': array([0.7755102 , 0.64516129, 0.7628866 , 0.74226804, 0.77894737])}"
      ]
     },
     "execution_count": 34,
     "metadata": {},
     "output_type": "execute_result"
    }
   ],
   "source": [
    "cv_res = cross_validate(pipe, X, y, cv=5, scoring='f1', return_train_score=True)\n",
    "cv_res"
   ]
  },
  {
   "cell_type": "code",
   "execution_count": 35,
   "id": "63e54e3a",
   "metadata": {
    "ExecuteTime": {
     "end_time": "2021-10-24T20:20:41.813570Z",
     "start_time": "2021-10-24T20:20:41.809915Z"
    }
   },
   "outputs": [
    {
     "data": {
      "text/plain": [
       "0.5006207827260459"
      ]
     },
     "execution_count": 35,
     "metadata": {},
     "output_type": "execute_result"
    }
   ],
   "source": [
    "# k best нужно подбирать\n",
    "\n",
    "cv_res['test_score'].mean()"
   ]
  },
  {
   "cell_type": "markdown",
   "id": "43072aef",
   "metadata": {},
   "source": [
    "## Жадный метод отбора"
   ]
  },
  {
   "cell_type": "code",
   "execution_count": 36,
   "id": "04dac375",
   "metadata": {
    "ExecuteTime": {
     "end_time": "2021-10-24T20:20:53.902156Z",
     "start_time": "2021-10-24T20:20:53.899723Z"
    }
   },
   "outputs": [],
   "source": [
    "from sklearn.feature_selection import RFE\n",
    "from sklearn.linear_model import LogisticRegression"
   ]
  },
  {
   "cell_type": "code",
   "execution_count": 37,
   "id": "a8e89f27",
   "metadata": {
    "ExecuteTime": {
     "end_time": "2021-10-24T20:25:10.673925Z",
     "start_time": "2021-10-24T20:25:10.671185Z"
    }
   },
   "outputs": [],
   "source": [
    "rfe = RFE(LogisticRegression(max_iter=1000), n_features_to_select=k_best, step=30)"
   ]
  },
  {
   "cell_type": "code",
   "execution_count": 38,
   "id": "f9894a8d",
   "metadata": {
    "ExecuteTime": {
     "end_time": "2021-10-24T20:25:12.544188Z",
     "start_time": "2021-10-24T20:25:12.540659Z"
    }
   },
   "outputs": [
    {
     "data": {
      "text/plain": [
       "(800, 1001)"
      ]
     },
     "execution_count": 38,
     "metadata": {},
     "output_type": "execute_result"
    }
   ],
   "source": [
    "X_tr.shape"
   ]
  },
  {
   "cell_type": "code",
   "execution_count": 39,
   "id": "34ae6c06",
   "metadata": {
    "ExecuteTime": {
     "end_time": "2021-10-24T20:25:35.091025Z",
     "start_time": "2021-10-24T20:25:32.892926Z"
    }
   },
   "outputs": [
    {
     "data": {
      "text/plain": [
       "(800, 30)"
      ]
     },
     "metadata": {},
     "output_type": "display_data"
    },
    {
     "data": {
      "text/plain": [
       "array([[-1.39963712, -0.72497315, -0.80122124, ..., -0.40535388,\n",
       "        -0.52135831, -0.72668962],\n",
       "       [-1.39963712, -0.39095874, -0.35246512, ..., -0.16466941,\n",
       "        -0.18003271, -0.70651232],\n",
       "       [-1.39963712,  0.38499825,  0.66762108, ...,  0.45023305,\n",
       "         0.73602435, -0.6731154 ],\n",
       "       ...,\n",
       "       [ 1.61195431,  1.82259714,  0.55477968, ...,  3.97831918,\n",
       "         2.1076934 ,  4.87819432],\n",
       "       [ 1.61195431,  3.67588727,  0.55477968, ...,  6.06069716,\n",
       "         2.51608978,  4.87819432],\n",
       "       [ 1.61195431,  1.44154683,  1.23182804, ...,  1.4680924 ,\n",
       "         0.19750623,  1.93926564]])"
      ]
     },
     "execution_count": 39,
     "metadata": {},
     "output_type": "execute_result"
    }
   ],
   "source": [
    "res = rfe.fit_transform(X_tr, y)\n",
    "display(res.shape)\n",
    "res"
   ]
  },
  {
   "cell_type": "code",
   "execution_count": 43,
   "id": "278408b9",
   "metadata": {
    "ExecuteTime": {
     "end_time": "2021-10-24T20:27:58.635555Z",
     "start_time": "2021-10-24T20:27:58.632190Z"
    }
   },
   "outputs": [],
   "source": [
    "pipe_rfe = Pipeline([\n",
    "    ('cat_encoder_', LeaveOneOutEncoder(cols=cat_cols)),\n",
    "    ('poly_featurizer_', PolynomialFeatures(degree=4)),\n",
    "    ('scaler_', StandardScaler()),\n",
    "    ('selector_', RFE(LogisticRegression(max_iter=1000),\n",
    "                      n_features_to_select=30,\n",
    "                      step=30\n",
    "                     )), \n",
    "    ('model_', SVC(kernel='linear'))])"
   ]
  },
  {
   "cell_type": "code",
   "execution_count": 44,
   "id": "324b1e27",
   "metadata": {
    "ExecuteTime": {
     "end_time": "2021-10-24T20:28:32.410710Z",
     "start_time": "2021-10-24T20:28:22.819441Z"
    }
   },
   "outputs": [
    {
     "data": {
      "text/plain": [
       "{'fit_time': array([2.03126383, 2.26443291, 1.78478503, 2.26449084, 2.06749415]),\n",
       " 'score_time': array([0.0079608 , 0.007478  , 0.00778913, 0.00773001, 0.00754905]),\n",
       " 'test_score': array([0.375     , 0.84615385, 0.70967742, 0.66666667, 0.65      ]),\n",
       " 'train_score': array([0.90384615, 0.84536082, 0.93457944, 0.89583333, 0.91089109])}"
      ]
     },
     "execution_count": 44,
     "metadata": {},
     "output_type": "execute_result"
    }
   ],
   "source": [
    "cv_res3 = cross_validate(pipe_rfe, X, y, cv=5, scoring='f1', return_train_score=True)\n",
    "cv_res3"
   ]
  },
  {
   "cell_type": "code",
   "execution_count": 45,
   "id": "46c51457",
   "metadata": {
    "ExecuteTime": {
     "end_time": "2021-10-24T20:28:49.063014Z",
     "start_time": "2021-10-24T20:28:49.059094Z"
    }
   },
   "outputs": [
    {
     "data": {
      "text/plain": [
       "0.6494995864350703"
      ]
     },
     "execution_count": 45,
     "metadata": {},
     "output_type": "execute_result"
    }
   ],
   "source": [
    "cv_res3['test_score'].mean()"
   ]
  },
  {
   "cell_type": "markdown",
   "id": "0e1c06e2",
   "metadata": {},
   "source": [
    "## С помощью L1 регуляризации"
   ]
  },
  {
   "cell_type": "code",
   "execution_count": 46,
   "id": "072680f9",
   "metadata": {
    "ExecuteTime": {
     "end_time": "2021-10-24T20:21:04.267409Z",
     "start_time": "2021-10-24T20:21:04.265012Z"
    }
   },
   "outputs": [],
   "source": [
    "from sklearn.feature_selection import SelectFromModel"
   ]
  },
  {
   "cell_type": "code",
   "execution_count": 47,
   "id": "c3affe8c",
   "metadata": {
    "ExecuteTime": {
     "end_time": "2021-10-24T20:21:05.214768Z",
     "start_time": "2021-10-24T20:21:05.212084Z"
    }
   },
   "outputs": [],
   "source": [
    "sel = SelectFromModel(LogisticRegression(penalty='l1', max_iter=1000, solver='liblinear'), threshold=1e-5)"
   ]
  },
  {
   "cell_type": "code",
   "execution_count": 48,
   "id": "20d887c5",
   "metadata": {
    "ExecuteTime": {
     "end_time": "2021-10-24T20:21:06.595072Z",
     "start_time": "2021-10-24T20:21:06.468695Z"
    }
   },
   "outputs": [
    {
     "data": {
      "text/plain": [
       "(800, 48)"
      ]
     },
     "metadata": {},
     "output_type": "display_data"
    },
    {
     "data": {
      "text/plain": [
       "array([[-1.20562657, -0.94218651, -0.7732015 , ..., -0.52135831,\n",
       "        -0.72668962, -0.81966779],\n",
       "       [-1.20562657, -0.94218651, -0.33767384, ..., -0.18003271,\n",
       "        -0.70651232, -0.81698899],\n",
       "       [-1.20562657, -0.94218651,  0.6523422 , ...,  0.73602435,\n",
       "        -0.6731154 , -0.81341726],\n",
       "       ...,\n",
       "       [-1.20562657, -0.94218651,  0.80566326, ...,  2.1076934 ,\n",
       "         4.87819432,  4.18343684],\n",
       "       [-1.20562657, -0.94218651,  1.06849938, ...,  2.51608978,\n",
       "         4.87819432,  4.18343684],\n",
       "       [-1.20562657, -0.94218651,  2.2512619 , ...,  0.19750623,\n",
       "         1.93926564,  2.6404483 ]])"
      ]
     },
     "execution_count": 48,
     "metadata": {},
     "output_type": "execute_result"
    }
   ],
   "source": [
    "# пример\n",
    "\n",
    "res = sel.fit_transform(X_tr, y)\n",
    "display(res.shape)\n",
    "res"
   ]
  },
  {
   "cell_type": "code",
   "execution_count": 50,
   "id": "87427971",
   "metadata": {
    "ExecuteTime": {
     "end_time": "2021-10-24T20:21:07.682619Z",
     "start_time": "2021-10-24T20:21:07.679172Z"
    }
   },
   "outputs": [],
   "source": [
    "pipe_lasso =  Pipeline([\n",
    "    ('cat_encoder_', LeaveOneOutEncoder(cols=cat_cols)),\n",
    "    ('poly_featurizer_', PolynomialFeatures(degree=4)),\n",
    "    ('scaler_', StandardScaler()),\n",
    "    ('selector_', SelectFromModel(LogisticRegression(penalty='l1', max_iter=1000, solver='liblinear'), \n",
    "                                  threshold=1e-5)), \n",
    "    ('model_', SVC(kernel='linear'))])"
   ]
  },
  {
   "cell_type": "code",
   "execution_count": 51,
   "id": "583a9644",
   "metadata": {
    "ExecuteTime": {
     "end_time": "2021-10-24T20:21:11.587486Z",
     "start_time": "2021-10-24T20:21:11.070842Z"
    }
   },
   "outputs": [
    {
     "data": {
      "text/plain": [
       "{'fit_time': array([0.11429286, 0.10220003, 0.09709072, 0.08966017, 0.098104  ]),\n",
       " 'score_time': array([0.00952101, 0.00777698, 0.00816107, 0.00758004, 0.00750804]),\n",
       " 'test_score': array([0.375     , 0.88      , 0.64285714, 0.60869565, 0.68421053]),\n",
       " 'train_score': array([0.92307692, 0.875     , 0.95145631, 0.93877551, 0.92929293])}"
      ]
     },
     "execution_count": 51,
     "metadata": {},
     "output_type": "execute_result"
    }
   ],
   "source": [
    "cv_res4 = cross_validate(pipe_lasso, X, y, cv=5, scoring='f1', return_train_score=True)\n",
    "cv_res4"
   ]
  },
  {
   "cell_type": "code",
   "execution_count": 52,
   "id": "7673e918",
   "metadata": {},
   "outputs": [
    {
     "data": {
      "text/plain": [
       "0.638152664269369"
      ]
     },
     "execution_count": 52,
     "metadata": {},
     "output_type": "execute_result"
    }
   ],
   "source": [
    "cv_res4['test_score'].mean()"
   ]
  },
  {
   "cell_type": "markdown",
   "id": "8a66d3e0",
   "metadata": {},
   "source": [
    "# Нелинейные классификаторы\n",
    "\n",
    "- SVM с ядром\n",
    "- Наивный байесовский классификатор\n",
    "- Метод k ближайших соседей"
   ]
  },
  {
   "cell_type": "code",
   "execution_count": 53,
   "id": "c03be687",
   "metadata": {},
   "outputs": [],
   "source": [
    "pipe_lasso2 =  Pipeline([\n",
    "    ('cat_encoder_', LeaveOneOutEncoder(cols=cat_cols)),\n",
    "    ('poly_featurizer_', PolynomialFeatures(degree=4)),\n",
    "    ('scaler_', StandardScaler()),\n",
    "    ('selector_', SelectFromModel(LogisticRegression(penalty='l1', max_iter=1000, solver='liblinear'), \n",
    "                                  threshold=1e-5)), \n",
    "    ('model_', SVC(kernel='rbf'))])"
   ]
  },
  {
   "cell_type": "code",
   "execution_count": 54,
   "id": "9a5c2dad",
   "metadata": {},
   "outputs": [
    {
     "data": {
      "text/plain": [
       "{'fit_time': array([0.10160804, 0.10773587, 0.09844184, 0.08809304, 0.09582686]),\n",
       " 'score_time': array([0.01076508, 0.01063299, 0.01149225, 0.01038313, 0.01016402]),\n",
       " 'test_score': array([0.35294118, 0.7       , 0.5       , 0.42105263, 0.66666667]),\n",
       " 'train_score': array([0.90909091, 0.81818182, 0.83870968, 0.91666667, 0.91836735])}"
      ]
     },
     "execution_count": 54,
     "metadata": {},
     "output_type": "execute_result"
    }
   ],
   "source": [
    "cv_res5 = cross_validate(pipe_lasso2, X, y, cv=5, scoring='f1', return_train_score=True)\n",
    "cv_res5"
   ]
  },
  {
   "cell_type": "code",
   "execution_count": 55,
   "id": "2a0132ab",
   "metadata": {},
   "outputs": [
    {
     "data": {
      "text/plain": [
       "0.5281320949432404"
      ]
     },
     "execution_count": 55,
     "metadata": {},
     "output_type": "execute_result"
    }
   ],
   "source": [
    "cv_res5['test_score'].mean()"
   ]
  },
  {
   "cell_type": "markdown",
   "id": "2e2f583e",
   "metadata": {},
   "source": [
    "Обучите наивный байесовский классификатор и метод k ближайших соседей вместо SVM в пайплайне выше. "
   ]
  },
  {
   "cell_type": "code",
   "execution_count": 57,
   "id": "578fb4f2",
   "metadata": {},
   "outputs": [],
   "source": [
    "from sklearn.neighbors import KNeighborsClassifier\n",
    "from sklearn.naive_bayes import MultinomialNB, GaussianNB"
   ]
  },
  {
   "cell_type": "code",
   "execution_count": 95,
   "id": "de10dd42",
   "metadata": {},
   "outputs": [],
   "source": [
    "# your code here\n",
    "pipe_knn =  Pipeline([\n",
    "    ('cat_encoder_', LeaveOneOutEncoder(cols=cat_cols)),\n",
    "    ('poly_featurizer_', PolynomialFeatures(degree=4)),\n",
    "    ('scaler_', StandardScaler()),\n",
    "    ('selector_', SelectFromModel(LogisticRegression(penalty='l1', max_iter=1000, solver='liblinear'), \n",
    "                                  threshold=1e-5)), \n",
    "    ('model_', KNeighborsClassifier())])"
   ]
  },
  {
   "cell_type": "code",
   "execution_count": 96,
   "id": "9c51b393",
   "metadata": {},
   "outputs": [
    {
     "data": {
      "text/html": [
       "<style>#sk-container-id-4 {color: black;background-color: white;}#sk-container-id-4 pre{padding: 0;}#sk-container-id-4 div.sk-toggleable {background-color: white;}#sk-container-id-4 label.sk-toggleable__label {cursor: pointer;display: block;width: 100%;margin-bottom: 0;padding: 0.3em;box-sizing: border-box;text-align: center;}#sk-container-id-4 label.sk-toggleable__label-arrow:before {content: \"▸\";float: left;margin-right: 0.25em;color: #696969;}#sk-container-id-4 label.sk-toggleable__label-arrow:hover:before {color: black;}#sk-container-id-4 div.sk-estimator:hover label.sk-toggleable__label-arrow:before {color: black;}#sk-container-id-4 div.sk-toggleable__content {max-height: 0;max-width: 0;overflow: hidden;text-align: left;background-color: #f0f8ff;}#sk-container-id-4 div.sk-toggleable__content pre {margin: 0.2em;color: black;border-radius: 0.25em;background-color: #f0f8ff;}#sk-container-id-4 input.sk-toggleable__control:checked~div.sk-toggleable__content {max-height: 200px;max-width: 100%;overflow: auto;}#sk-container-id-4 input.sk-toggleable__control:checked~label.sk-toggleable__label-arrow:before {content: \"▾\";}#sk-container-id-4 div.sk-estimator input.sk-toggleable__control:checked~label.sk-toggleable__label {background-color: #d4ebff;}#sk-container-id-4 div.sk-label input.sk-toggleable__control:checked~label.sk-toggleable__label {background-color: #d4ebff;}#sk-container-id-4 input.sk-hidden--visually {border: 0;clip: rect(1px 1px 1px 1px);clip: rect(1px, 1px, 1px, 1px);height: 1px;margin: -1px;overflow: hidden;padding: 0;position: absolute;width: 1px;}#sk-container-id-4 div.sk-estimator {font-family: monospace;background-color: #f0f8ff;border: 1px dotted black;border-radius: 0.25em;box-sizing: border-box;margin-bottom: 0.5em;}#sk-container-id-4 div.sk-estimator:hover {background-color: #d4ebff;}#sk-container-id-4 div.sk-parallel-item::after {content: \"\";width: 100%;border-bottom: 1px solid gray;flex-grow: 1;}#sk-container-id-4 div.sk-label:hover label.sk-toggleable__label {background-color: #d4ebff;}#sk-container-id-4 div.sk-serial::before {content: \"\";position: absolute;border-left: 1px solid gray;box-sizing: border-box;top: 0;bottom: 0;left: 50%;z-index: 0;}#sk-container-id-4 div.sk-serial {display: flex;flex-direction: column;align-items: center;background-color: white;padding-right: 0.2em;padding-left: 0.2em;position: relative;}#sk-container-id-4 div.sk-item {position: relative;z-index: 1;}#sk-container-id-4 div.sk-parallel {display: flex;align-items: stretch;justify-content: center;background-color: white;position: relative;}#sk-container-id-4 div.sk-item::before, #sk-container-id-4 div.sk-parallel-item::before {content: \"\";position: absolute;border-left: 1px solid gray;box-sizing: border-box;top: 0;bottom: 0;left: 50%;z-index: -1;}#sk-container-id-4 div.sk-parallel-item {display: flex;flex-direction: column;z-index: 1;position: relative;background-color: white;}#sk-container-id-4 div.sk-parallel-item:first-child::after {align-self: flex-end;width: 50%;}#sk-container-id-4 div.sk-parallel-item:last-child::after {align-self: flex-start;width: 50%;}#sk-container-id-4 div.sk-parallel-item:only-child::after {width: 0;}#sk-container-id-4 div.sk-dashed-wrapped {border: 1px dashed gray;margin: 0 0.4em 0.5em 0.4em;box-sizing: border-box;padding-bottom: 0.4em;background-color: white;}#sk-container-id-4 div.sk-label label {font-family: monospace;font-weight: bold;display: inline-block;line-height: 1.2em;}#sk-container-id-4 div.sk-label-container {text-align: center;}#sk-container-id-4 div.sk-container {/* jupyter's `normalize.less` sets `[hidden] { display: none; }` but bootstrap.min.css set `[hidden] { display: none !important; }` so we also need the `!important` here to be able to override the default hidden behavior on the sphinx rendered scikit-learn.org. See: https://github.com/scikit-learn/scikit-learn/issues/21755 */display: inline-block !important;position: relative;}#sk-container-id-4 div.sk-text-repr-fallback {display: none;}</style><div id=\"sk-container-id-4\" class=\"sk-top-container\"><div class=\"sk-text-repr-fallback\"><pre>Pipeline(steps=[(&#x27;cat_encoder_&#x27;, LeaveOneOutEncoder(cols=[&#x27;Type 1&#x27;, &#x27;Type 2&#x27;])),\n",
       "                (&#x27;poly_featurizer_&#x27;, PolynomialFeatures(degree=4)),\n",
       "                (&#x27;scaler_&#x27;, StandardScaler()),\n",
       "                (&#x27;selector_&#x27;,\n",
       "                 SelectFromModel(estimator=LogisticRegression(max_iter=1000,\n",
       "                                                              penalty=&#x27;l1&#x27;,\n",
       "                                                              solver=&#x27;liblinear&#x27;),\n",
       "                                 threshold=1e-05)),\n",
       "                (&#x27;model_&#x27;, KNeighborsClassifier())])</pre><b>In a Jupyter environment, please rerun this cell to show the HTML representation or trust the notebook. <br />On GitHub, the HTML representation is unable to render, please try loading this page with nbviewer.org.</b></div><div class=\"sk-container\" hidden><div class=\"sk-item sk-dashed-wrapped\"><div class=\"sk-label-container\"><div class=\"sk-label sk-toggleable\"><input class=\"sk-toggleable__control sk-hidden--visually\" id=\"sk-estimator-id-24\" type=\"checkbox\" ><label for=\"sk-estimator-id-24\" class=\"sk-toggleable__label sk-toggleable__label-arrow\">Pipeline</label><div class=\"sk-toggleable__content\"><pre>Pipeline(steps=[(&#x27;cat_encoder_&#x27;, LeaveOneOutEncoder(cols=[&#x27;Type 1&#x27;, &#x27;Type 2&#x27;])),\n",
       "                (&#x27;poly_featurizer_&#x27;, PolynomialFeatures(degree=4)),\n",
       "                (&#x27;scaler_&#x27;, StandardScaler()),\n",
       "                (&#x27;selector_&#x27;,\n",
       "                 SelectFromModel(estimator=LogisticRegression(max_iter=1000,\n",
       "                                                              penalty=&#x27;l1&#x27;,\n",
       "                                                              solver=&#x27;liblinear&#x27;),\n",
       "                                 threshold=1e-05)),\n",
       "                (&#x27;model_&#x27;, KNeighborsClassifier())])</pre></div></div></div><div class=\"sk-serial\"><div class=\"sk-item\"><div class=\"sk-estimator sk-toggleable\"><input class=\"sk-toggleable__control sk-hidden--visually\" id=\"sk-estimator-id-25\" type=\"checkbox\" ><label for=\"sk-estimator-id-25\" class=\"sk-toggleable__label sk-toggleable__label-arrow\">LeaveOneOutEncoder</label><div class=\"sk-toggleable__content\"><pre>LeaveOneOutEncoder(cols=[&#x27;Type 1&#x27;, &#x27;Type 2&#x27;])</pre></div></div></div><div class=\"sk-item\"><div class=\"sk-estimator sk-toggleable\"><input class=\"sk-toggleable__control sk-hidden--visually\" id=\"sk-estimator-id-26\" type=\"checkbox\" ><label for=\"sk-estimator-id-26\" class=\"sk-toggleable__label sk-toggleable__label-arrow\">PolynomialFeatures</label><div class=\"sk-toggleable__content\"><pre>PolynomialFeatures(degree=4)</pre></div></div></div><div class=\"sk-item\"><div class=\"sk-estimator sk-toggleable\"><input class=\"sk-toggleable__control sk-hidden--visually\" id=\"sk-estimator-id-27\" type=\"checkbox\" ><label for=\"sk-estimator-id-27\" class=\"sk-toggleable__label sk-toggleable__label-arrow\">StandardScaler</label><div class=\"sk-toggleable__content\"><pre>StandardScaler()</pre></div></div></div><div class=\"sk-item sk-dashed-wrapped\"><div class=\"sk-label-container\"><div class=\"sk-label sk-toggleable\"><input class=\"sk-toggleable__control sk-hidden--visually\" id=\"sk-estimator-id-28\" type=\"checkbox\" ><label for=\"sk-estimator-id-28\" class=\"sk-toggleable__label sk-toggleable__label-arrow\">selector_: SelectFromModel</label><div class=\"sk-toggleable__content\"><pre>SelectFromModel(estimator=LogisticRegression(max_iter=1000, penalty=&#x27;l1&#x27;,\n",
       "                                             solver=&#x27;liblinear&#x27;),\n",
       "                threshold=1e-05)</pre></div></div></div><div class=\"sk-parallel\"><div class=\"sk-parallel-item\"><div class=\"sk-item\"><div class=\"sk-label-container\"><div class=\"sk-label sk-toggleable\"><input class=\"sk-toggleable__control sk-hidden--visually\" id=\"sk-estimator-id-29\" type=\"checkbox\" ><label for=\"sk-estimator-id-29\" class=\"sk-toggleable__label sk-toggleable__label-arrow\">estimator: LogisticRegression</label><div class=\"sk-toggleable__content\"><pre>LogisticRegression(max_iter=1000, penalty=&#x27;l1&#x27;, solver=&#x27;liblinear&#x27;)</pre></div></div></div><div class=\"sk-serial\"><div class=\"sk-item\"><div class=\"sk-estimator sk-toggleable\"><input class=\"sk-toggleable__control sk-hidden--visually\" id=\"sk-estimator-id-30\" type=\"checkbox\" ><label for=\"sk-estimator-id-30\" class=\"sk-toggleable__label sk-toggleable__label-arrow\">LogisticRegression</label><div class=\"sk-toggleable__content\"><pre>LogisticRegression(max_iter=1000, penalty=&#x27;l1&#x27;, solver=&#x27;liblinear&#x27;)</pre></div></div></div></div></div></div></div></div><div class=\"sk-item\"><div class=\"sk-estimator sk-toggleable\"><input class=\"sk-toggleable__control sk-hidden--visually\" id=\"sk-estimator-id-31\" type=\"checkbox\" ><label for=\"sk-estimator-id-31\" class=\"sk-toggleable__label sk-toggleable__label-arrow\">KNeighborsClassifier</label><div class=\"sk-toggleable__content\"><pre>KNeighborsClassifier()</pre></div></div></div></div></div></div></div>"
      ],
      "text/plain": [
       "Pipeline(steps=[('cat_encoder_', LeaveOneOutEncoder(cols=['Type 1', 'Type 2'])),\n",
       "                ('poly_featurizer_', PolynomialFeatures(degree=4)),\n",
       "                ('scaler_', StandardScaler()),\n",
       "                ('selector_',\n",
       "                 SelectFromModel(estimator=LogisticRegression(max_iter=1000,\n",
       "                                                              penalty='l1',\n",
       "                                                              solver='liblinear'),\n",
       "                                 threshold=1e-05)),\n",
       "                ('model_', KNeighborsClassifier())])"
      ]
     },
     "execution_count": 96,
     "metadata": {},
     "output_type": "execute_result"
    }
   ],
   "source": [
    "pipe_knn"
   ]
  },
  {
   "cell_type": "code",
   "execution_count": 97,
   "id": "8fd214ba",
   "metadata": {},
   "outputs": [
    {
     "data": {
      "text/plain": [
       "{'fit_time': array([0.10558009, 0.12564087, 0.11749411, 0.11167383, 0.12166595]),\n",
       " 'score_time': array([0.0175159 , 0.01719117, 0.01791096, 0.01770115, 0.01851797]),\n",
       " 'test_score': array([0.47058824, 0.72727273, 0.38095238, 0.33333333, 0.66666667]),\n",
       " 'train_score': array([0.77419355, 0.79166667, 0.73333333, 0.77777778, 0.82      ])}"
      ]
     },
     "execution_count": 97,
     "metadata": {},
     "output_type": "execute_result"
    }
   ],
   "source": [
    "cv_res5 = cross_validate(pipe_knn, X, y, cv=5, scoring='f1', return_train_score=True)\n",
    "cv_res5"
   ]
  },
  {
   "cell_type": "code",
   "execution_count": 98,
   "id": "e3601723",
   "metadata": {},
   "outputs": [
    {
     "data": {
      "text/plain": [
       "0.5157626687038451"
      ]
     },
     "execution_count": 98,
     "metadata": {},
     "output_type": "execute_result"
    }
   ],
   "source": [
    "cv_res5['test_score'].mean()"
   ]
  },
  {
   "cell_type": "markdown",
   "id": "f59d9599",
   "metadata": {},
   "source": [
    "С помощью GridSearch подберите гиперпараметр KNN (число соседей) внутри пайплайна."
   ]
  },
  {
   "cell_type": "code",
   "execution_count": 70,
   "id": "d8b2d6dd",
   "metadata": {},
   "outputs": [],
   "source": [
    "# your code here\n",
    "from sklearn.model_selection import GridSearchCV"
   ]
  },
  {
   "cell_type": "code",
   "execution_count": 102,
   "id": "c21f41ef",
   "metadata": {},
   "outputs": [],
   "source": [
    "pipe_knn =  Pipeline([\n",
    "    ('cat_encoder_', LeaveOneOutEncoder(cols=cat_cols)),\n",
    "    ('poly_featurizer_', PolynomialFeatures(degree=4)),\n",
    "    ('scaler_', StandardScaler()),\n",
    "    ('selector_', SelectFromModel(LogisticRegression(penalty='l1', max_iter=1000, solver='liblinear'), \n",
    "                                  threshold=1e-5)), \n",
    "    ('gridsearch_', GridSearchCV(estimator=KNeighborsClassifier(),\n",
    "             param_grid={'n_neighbors' : range(1,51)}))])"
   ]
  },
  {
   "cell_type": "code",
   "execution_count": 103,
   "id": "7b2f91bd",
   "metadata": {},
   "outputs": [
    {
     "data": {
      "text/plain": [
       "{'fit_time': array([1.86652517, 1.91584492, 1.90953088, 1.83931422, 1.89769602]),\n",
       " 'score_time': array([0.02057195, 0.01816392, 0.01721096, 0.018785  , 0.01922393]),\n",
       " 'test_score': array([0.26666667, 0.7       , 0.21052632, 0.31578947, 0.48      ]),\n",
       " 'train_score': array([0.47222222, 0.45714286, 0.6       , 0.54054054, 0.65060241])}"
      ]
     },
     "execution_count": 103,
     "metadata": {},
     "output_type": "execute_result"
    }
   ],
   "source": [
    "cv_res5 = cross_validate(pipe_knn, X, y, cv=5, scoring='f1', return_train_score=True)\n",
    "cv_res5"
   ]
  },
  {
   "cell_type": "code",
   "execution_count": 104,
   "id": "14f4e05e",
   "metadata": {},
   "outputs": [
    {
     "data": {
      "text/plain": [
       "0.39459649122807017"
      ]
     },
     "execution_count": 104,
     "metadata": {},
     "output_type": "execute_result"
    }
   ],
   "source": [
    "cv_res5['test_score'].mean()"
   ]
  },
  {
   "cell_type": "markdown",
   "id": "73dc4dcc",
   "metadata": {},
   "source": [
    "# Сохранение и загрузка модели"
   ]
  },
  {
   "cell_type": "code",
   "execution_count": 105,
   "id": "7e040ef3",
   "metadata": {},
   "outputs": [],
   "source": [
    "import pickle #консервы"
   ]
  },
  {
   "cell_type": "markdown",
   "id": "fe45b814",
   "metadata": {},
   "source": [
    "Обучим лучшую модель на всех данных и сохраним её в файл."
   ]
  },
  {
   "cell_type": "code",
   "execution_count": null,
   "id": "a48e17f8",
   "metadata": {},
   "outputs": [],
   "source": [
    "#your code here\n",
    "\n",
    "model = ..."
   ]
  },
  {
   "cell_type": "markdown",
   "id": "e232d07f",
   "metadata": {},
   "source": [
    "Сохранение модели в файл"
   ]
  },
  {
   "cell_type": "code",
   "execution_count": null,
   "id": "4d65f3be",
   "metadata": {},
   "outputs": [],
   "source": [
    "filename = 'best_model.sav'\n",
    "pickle.dump(model, open(filename, 'wb'))"
   ]
  },
  {
   "cell_type": "markdown",
   "id": "bb928ec7",
   "metadata": {},
   "source": [
    "Загрузка модели из файла"
   ]
  },
  {
   "cell_type": "code",
   "execution_count": null,
   "id": "ca68161c",
   "metadata": {},
   "outputs": [],
   "source": [
    "loaded_model = pickle.load(open(filename, 'rb'))"
   ]
  },
  {
   "cell_type": "markdown",
   "id": "45259181",
   "metadata": {},
   "source": [
    "Второй вариант"
   ]
  },
  {
   "cell_type": "code",
   "execution_count": 2,
   "id": "3f9a4ab4",
   "metadata": {},
   "outputs": [],
   "source": [
    "import joblib\n",
    "\n",
    "filename = 'best_model.sav'\n",
    "joblib.dump(model, filename)\n",
    " \n",
    "loaded_model = joblib.load(filename)"
   ]
  },
  {
   "cell_type": "markdown",
   "id": "dab80b53",
   "metadata": {},
   "source": [
    "Почитать подробнее про сохранение модели в файл и загрузку из файла тут: https://machinelearningmastery.com/save-load-machine-learning-models-python-scikit-learn/"
   ]
  }
 ],
 "metadata": {
  "kernelspec": {
   "display_name": "Python 3",
   "language": "python",
   "name": "python3"
  },
  "language_info": {
   "codemirror_mode": {
    "name": "ipython",
    "version": 3
   },
   "file_extension": ".py",
   "mimetype": "text/x-python",
   "name": "python",
   "nbconvert_exporter": "python",
   "pygments_lexer": "ipython3",
   "version": "3.8.5"
  },
  "toc": {
   "base_numbering": 1,
   "nav_menu": {},
   "number_sections": true,
   "sideBar": true,
   "skip_h1_title": false,
   "title_cell": "Table of Contents",
   "title_sidebar": "Contents",
   "toc_cell": false,
   "toc_position": {},
   "toc_section_display": true,
   "toc_window_display": false
  }
 },
 "nbformat": 4,
 "nbformat_minor": 5
}
